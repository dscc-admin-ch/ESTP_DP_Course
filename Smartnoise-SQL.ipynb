{
 "cells": [
  {
   "cell_type": "markdown",
   "id": "ebe537d9-14ba-4391-be5f-6ead354279d7",
   "metadata": {},
   "source": [
    "# Introduction to Smartnoise-SQL"
   ]
  },
  {
   "cell_type": "markdown",
   "id": "22c9f10d-cdf1-4d41-8e68-a7f1295fa3ec",
   "metadata": {},
   "source": [
    "[Smartnoise-SQL](https://docs.smartnoise.org/sql/index.html) is a python library that enables to perform differentially private SQL queries. \n",
    "\n",
    "SmartNoise is intended for scenarios where the analyst is trusted by the data owner."
   ]
  },
  {
   "cell_type": "markdown",
   "id": "171e71e6-593f-488f-8cdf-0d5e81d53767",
   "metadata": {},
   "source": [
    "## Step 1: Install the Library"
   ]
  },
  {
   "cell_type": "markdown",
   "id": "866cf891-3f6d-4ec7-9cf1-91b85e7738c6",
   "metadata": {},
   "source": [
    "Smartnoise-sql is available on pypi, it can be installed via the pip command. We will use the latest version of the library to date: version 1.0.6."
   ]
  },
  {
   "cell_type": "code",
   "execution_count": 2,
   "id": "2cbb1dfb-4323-4e58-8135-6b164c5c48e5",
   "metadata": {},
   "outputs": [
    {
     "name": "stdout",
     "output_type": "stream",
     "text": [
      "Defaulting to user installation because normal site-packages is not writeable\n",
      "Collecting smartnoise-sql==1.0.6\n",
      "  Downloading smartnoise_sql-1.0.6-py3-none-any.whl.metadata (9.6 kB)\n",
      "Requirement already satisfied: PyYAML<7.0.0,>=6.0.1 in /opt/conda/envs/dap/lib/python3.11/site-packages (from smartnoise-sql==1.0.6) (6.0.2)\n",
      "Collecting antlr4-python3-runtime==4.9.3 (from smartnoise-sql==1.0.6)\n",
      "  Downloading antlr4-python3-runtime-4.9.3.tar.gz (117 kB)\n",
      "  Preparing metadata (setup.py) ... \u001b[?25ldone\n",
      "\u001b[?25hCollecting graphviz<1.0,>=0.17 (from smartnoise-sql==1.0.6)\n",
      "  Downloading graphviz-0.21-py3-none-any.whl.metadata (12 kB)\n",
      "Collecting opendp<0.13.0,>=0.8.0 (from smartnoise-sql==1.0.6)\n",
      "  Downloading opendp-0.12.1-cp39-abi3-manylinux_2_17_x86_64.manylinux2014_x86_64.whl.metadata (6.1 kB)\n",
      "Requirement already satisfied: pandas<3.0.0,>=2.0.1 in /opt/conda/envs/dap/lib/python3.11/site-packages (from smartnoise-sql==1.0.6) (2.2.3)\n",
      "Collecting sqlalchemy<3.0.0,>=2.0.0 (from smartnoise-sql==1.0.6)\n",
      "  Downloading sqlalchemy-2.0.43-cp311-cp311-manylinux_2_17_x86_64.manylinux2014_x86_64.whl.metadata (9.6 kB)\n",
      "Collecting deprecated (from opendp<0.13.0,>=0.8.0->smartnoise-sql==1.0.6)\n",
      "  Downloading Deprecated-1.2.18-py2.py3-none-any.whl.metadata (5.7 kB)\n",
      "Requirement already satisfied: numpy>=1.23.2 in /opt/conda/envs/dap/lib/python3.11/site-packages (from pandas<3.0.0,>=2.0.1->smartnoise-sql==1.0.6) (2.2.4)\n",
      "Requirement already satisfied: python-dateutil>=2.8.2 in /opt/conda/envs/dap/lib/python3.11/site-packages (from pandas<3.0.0,>=2.0.1->smartnoise-sql==1.0.6) (2.9.0.post0)\n",
      "Requirement already satisfied: pytz>=2020.1 in /opt/conda/envs/dap/lib/python3.11/site-packages (from pandas<3.0.0,>=2.0.1->smartnoise-sql==1.0.6) (2024.1)\n",
      "Requirement already satisfied: tzdata>=2022.7 in /opt/conda/envs/dap/lib/python3.11/site-packages (from pandas<3.0.0,>=2.0.1->smartnoise-sql==1.0.6) (2025.2)\n",
      "Requirement already satisfied: greenlet>=1 in /opt/conda/envs/dap/lib/python3.11/site-packages (from sqlalchemy<3.0.0,>=2.0.0->smartnoise-sql==1.0.6) (3.1.1)\n",
      "Requirement already satisfied: typing-extensions>=4.6.0 in /opt/conda/envs/dap/lib/python3.11/site-packages (from sqlalchemy<3.0.0,>=2.0.0->smartnoise-sql==1.0.6) (4.13.1)\n",
      "Requirement already satisfied: six>=1.5 in /opt/conda/envs/dap/lib/python3.11/site-packages (from python-dateutil>=2.8.2->pandas<3.0.0,>=2.0.1->smartnoise-sql==1.0.6) (1.17.0)\n",
      "Collecting wrapt<2,>=1.10 (from deprecated->opendp<0.13.0,>=0.8.0->smartnoise-sql==1.0.6)\n",
      "  Downloading wrapt-1.17.3-cp311-cp311-manylinux1_x86_64.manylinux_2_28_x86_64.manylinux_2_5_x86_64.whl.metadata (6.4 kB)\n",
      "Downloading smartnoise_sql-1.0.6-py3-none-any.whl (144 kB)\n",
      "Downloading graphviz-0.21-py3-none-any.whl (47 kB)\n",
      "Downloading opendp-0.12.1-cp39-abi3-manylinux_2_17_x86_64.manylinux2014_x86_64.whl (25.0 MB)\n",
      "\u001b[2K   \u001b[90m━━━━━━━━━━━━━━━━━━━━━━━━━━━━━━━━━━━━━━━━\u001b[0m \u001b[32m25.0/25.0 MB\u001b[0m \u001b[31m17.8 MB/s\u001b[0m eta \u001b[36m0:00:00\u001b[0ma \u001b[36m0:00:01\u001b[0m\n",
      "\u001b[?25hDownloading sqlalchemy-2.0.43-cp311-cp311-manylinux_2_17_x86_64.manylinux2014_x86_64.whl (3.3 MB)\n",
      "\u001b[2K   \u001b[90m━━━━━━━━━━━━━━━━━━━━━━━━━━━━━━━━━━━━━━━━\u001b[0m \u001b[32m3.3/3.3 MB\u001b[0m \u001b[31m23.4 MB/s\u001b[0m eta \u001b[36m0:00:00\u001b[0m\n",
      "\u001b[?25hDownloading Deprecated-1.2.18-py2.py3-none-any.whl (10.0 kB)\n",
      "Downloading wrapt-1.17.3-cp311-cp311-manylinux1_x86_64.manylinux_2_28_x86_64.manylinux_2_5_x86_64.whl (82 kB)\n",
      "Building wheels for collected packages: antlr4-python3-runtime\n",
      "  Building wheel for antlr4-python3-runtime (setup.py) ... \u001b[?25ldone\n",
      "\u001b[?25h  Created wheel for antlr4-python3-runtime: filename=antlr4_python3_runtime-4.9.3-py3-none-any.whl size=144592 sha256=0c710416fbf6c163536b091fa7ff2970a6e6e495c5c86fc484a0903cbe792c6a\n",
      "  Stored in directory: /home/bfs/.cache/pip/wheels/1a/97/32/461f837398029ad76911109f07047fde1d7b661a147c7c56d1\n",
      "Successfully built antlr4-python3-runtime\n",
      "Installing collected packages: antlr4-python3-runtime, wrapt, sqlalchemy, graphviz, deprecated, opendp, smartnoise-sql\n",
      "Successfully installed antlr4-python3-runtime-4.9.3 deprecated-1.2.18 graphviz-0.21 opendp-0.12.1 smartnoise-sql-1.0.6 sqlalchemy-2.0.43 wrapt-1.17.3\n"
     ]
    }
   ],
   "source": [
    "!pip install smartnoise-sql==1.0.6"
   ]
  },
  {
   "cell_type": "markdown",
   "id": "19330e0e-27ad-4c41-9c14-65dcf0440837",
   "metadata": {},
   "source": [
    "For this notebook, we will also use `pandas` library, which is one if the main python library to work with tables. We also install it via `pip`."
   ]
  },
  {
   "cell_type": "code",
   "execution_count": 6,
   "id": "b7d2ad44-f113-4ccb-aad8-5c3e2276b854",
   "metadata": {},
   "outputs": [
    {
     "name": "stdout",
     "output_type": "stream",
     "text": [
      "Defaulting to user installation because normal site-packages is not writeable\n",
      "Requirement already satisfied: pandas==2.2.3 in /opt/conda/envs/dap/lib/python3.11/site-packages (2.2.3)\n",
      "Requirement already satisfied: numpy>=1.23.2 in /opt/conda/envs/dap/lib/python3.11/site-packages (from pandas==2.2.3) (2.2.4)\n",
      "Requirement already satisfied: python-dateutil>=2.8.2 in /opt/conda/envs/dap/lib/python3.11/site-packages (from pandas==2.2.3) (2.9.0.post0)\n",
      "Requirement already satisfied: pytz>=2020.1 in /opt/conda/envs/dap/lib/python3.11/site-packages (from pandas==2.2.3) (2024.1)\n",
      "Requirement already satisfied: tzdata>=2022.7 in /opt/conda/envs/dap/lib/python3.11/site-packages (from pandas==2.2.3) (2025.2)\n",
      "Requirement already satisfied: six>=1.5 in /opt/conda/envs/dap/lib/python3.11/site-packages (from python-dateutil>=2.8.2->pandas==2.2.3) (1.17.0)\n"
     ]
    }
   ],
   "source": [
    "!pip install pandas==2.2.3"
   ]
  },
  {
   "cell_type": "markdown",
   "id": "77f8e6fa-f835-4bb2-b725-056f687c8224",
   "metadata": {},
   "source": [
    "## Step 2: Load and Prepare Data"
   ]
  },
  {
   "cell_type": "markdown",
   "id": "fa98c3f1-93e1-47ea-b601-1ebe8adfac36",
   "metadata": {},
   "source": [
    "In this notebook, we will work with the [penguin dataset](\"https://raw.githubusercontent.com/mwaskom/seaborn-data/master/penguins.csv\") from [seaborn datasets](https://github.com/mwaskom/seaborn-data).\n",
    "We load the dataset via pandas in a dataframe `df`."
   ]
  },
  {
   "cell_type": "code",
   "execution_count": 8,
   "id": "f251892a-491c-4b3c-a768-6f85cd5a667a",
   "metadata": {},
   "outputs": [],
   "source": [
    "import pandas as pd"
   ]
  },
  {
   "cell_type": "code",
   "execution_count": 9,
   "id": "1b28da34-89b7-4af1-8af5-4f25c806b451",
   "metadata": {},
   "outputs": [],
   "source": [
    "path_to_data = \"https://raw.githubusercontent.com/mwaskom/seaborn-data/master/penguins.csv\"\n",
    "df = pd.read_csv(path_to_data)"
   ]
  },
  {
   "cell_type": "markdown",
   "id": "e7ca39e7-9eec-4be2-a0fa-6b602e6a7317",
   "metadata": {},
   "source": [
    "We can look at the first rows of the dataframe to get to know the data:"
   ]
  },
  {
   "cell_type": "code",
   "execution_count": 10,
   "id": "039bb30b-b068-41f0-9052-2d20e62868c9",
   "metadata": {},
   "outputs": [
    {
     "data": {
      "text/html": [
       "<div>\n",
       "<style scoped>\n",
       "    .dataframe tbody tr th:only-of-type {\n",
       "        vertical-align: middle;\n",
       "    }\n",
       "\n",
       "    .dataframe tbody tr th {\n",
       "        vertical-align: top;\n",
       "    }\n",
       "\n",
       "    .dataframe thead th {\n",
       "        text-align: right;\n",
       "    }\n",
       "</style>\n",
       "<table border=\"1\" class=\"dataframe\">\n",
       "  <thead>\n",
       "    <tr style=\"text-align: right;\">\n",
       "      <th></th>\n",
       "      <th>species</th>\n",
       "      <th>island</th>\n",
       "      <th>bill_length_mm</th>\n",
       "      <th>bill_depth_mm</th>\n",
       "      <th>flipper_length_mm</th>\n",
       "      <th>body_mass_g</th>\n",
       "      <th>sex</th>\n",
       "    </tr>\n",
       "  </thead>\n",
       "  <tbody>\n",
       "    <tr>\n",
       "      <th>0</th>\n",
       "      <td>Adelie</td>\n",
       "      <td>Torgersen</td>\n",
       "      <td>39.1</td>\n",
       "      <td>18.7</td>\n",
       "      <td>181.0</td>\n",
       "      <td>3750.0</td>\n",
       "      <td>MALE</td>\n",
       "    </tr>\n",
       "    <tr>\n",
       "      <th>1</th>\n",
       "      <td>Adelie</td>\n",
       "      <td>Torgersen</td>\n",
       "      <td>39.5</td>\n",
       "      <td>17.4</td>\n",
       "      <td>186.0</td>\n",
       "      <td>3800.0</td>\n",
       "      <td>FEMALE</td>\n",
       "    </tr>\n",
       "    <tr>\n",
       "      <th>2</th>\n",
       "      <td>Adelie</td>\n",
       "      <td>Torgersen</td>\n",
       "      <td>40.3</td>\n",
       "      <td>18.0</td>\n",
       "      <td>195.0</td>\n",
       "      <td>3250.0</td>\n",
       "      <td>FEMALE</td>\n",
       "    </tr>\n",
       "    <tr>\n",
       "      <th>3</th>\n",
       "      <td>Adelie</td>\n",
       "      <td>Torgersen</td>\n",
       "      <td>NaN</td>\n",
       "      <td>NaN</td>\n",
       "      <td>NaN</td>\n",
       "      <td>NaN</td>\n",
       "      <td>NaN</td>\n",
       "    </tr>\n",
       "    <tr>\n",
       "      <th>4</th>\n",
       "      <td>Adelie</td>\n",
       "      <td>Torgersen</td>\n",
       "      <td>36.7</td>\n",
       "      <td>19.3</td>\n",
       "      <td>193.0</td>\n",
       "      <td>3450.0</td>\n",
       "      <td>FEMALE</td>\n",
       "    </tr>\n",
       "  </tbody>\n",
       "</table>\n",
       "</div>"
      ],
      "text/plain": [
       "  species     island  bill_length_mm  bill_depth_mm  flipper_length_mm  \\\n",
       "0  Adelie  Torgersen            39.1           18.7              181.0   \n",
       "1  Adelie  Torgersen            39.5           17.4              186.0   \n",
       "2  Adelie  Torgersen            40.3           18.0              195.0   \n",
       "3  Adelie  Torgersen             NaN            NaN                NaN   \n",
       "4  Adelie  Torgersen            36.7           19.3              193.0   \n",
       "\n",
       "   body_mass_g     sex  \n",
       "0       3750.0    MALE  \n",
       "1       3800.0  FEMALE  \n",
       "2       3250.0  FEMALE  \n",
       "3          NaN     NaN  \n",
       "4       3450.0  FEMALE  "
      ]
     },
     "execution_count": 10,
     "metadata": {},
     "output_type": "execute_result"
    }
   ],
   "source": [
    "df.head()"
   ]
  },
  {
   "cell_type": "markdown",
   "id": "7588d0ae-b96e-4ecc-af8f-f0a23087932f",
   "metadata": {},
   "source": [
    "We see that there are 7 columns: 'species', 'island', 'bill_length_mm', 'bill_depth_mm', 'flipper_length_mm', 'body_mass_g' and 'sex' with various data types."
   ]
  },
  {
   "cell_type": "markdown",
   "id": "495a61bb-083b-4223-b523-b721e60944c9",
   "metadata": {},
   "source": [
    "## Step 3: Prepare Analysis with Smarnoise-SQL"
   ]
  },
  {
   "cell_type": "markdown",
   "id": "d7ff49cc-86e0-4ee7-a2e9-7c0bf39e1bde",
   "metadata": {},
   "source": [
    "Before doing a query, `smartnoise-sql` requires a reader object [(see doc here)](https://docs.smartnoise.org/sql/api/index.html#snsql.connect.from_df). When working with pandas dataframe, this object takes three parameters:\n",
    "- df: The Pandas DataFrame to be queried (which we loaded in step 2)\n",
    "- privacy: A Privacy object with the desired privacy parameters (we instantiate it in step 3.1)\n",
    "- metadata: The metadata describing the data source (we instantiate it in step 3.2)"
   ]
  },
  {
   "cell_type": "markdown",
   "id": "5eb3a64c-a9bd-478b-b71b-e352a9d53955",
   "metadata": {},
   "source": [
    "### Step 3.1: Privacy object"
   ]
  },
  {
   "cell_type": "markdown",
   "id": "b3e9b72b-6dfb-4fdf-8d38-fc84a47aa723",
   "metadata": {},
   "source": [
    "The `Privacy` object [(see doc)](https://docs.smartnoise.org/sql/api/index.html#privacy) enables to select the privacy budget used by queries. The budget is specified with an $\\epsilon$ and $\\delta$ as in approximate differential privacy.\n",
    "$$\n",
    "Pr[M(S) \\in O] < e^{\\epsilon} Pr[M(S') \\in O] + \\delta\n",
    "$$\n",
    "\n",
    "We select $\\epsilon=0.1$ and $\\delta=0.0001$.\n",
    "\n",
    "Optionnaly, it can also represent desired accuracy bounds or specify mechanisms for certain statistics but this is out of scope for this notebook."
   ]
  },
  {
   "cell_type": "code",
   "execution_count": 1,
   "id": "ee0baf22-bd56-45e3-bcc6-833bbce44cd2",
   "metadata": {},
   "outputs": [],
   "source": [
    "from snsql import Privacy"
   ]
  },
  {
   "cell_type": "code",
   "execution_count": 18,
   "id": "d482aab9-a0e9-44f2-a7ad-fd8384873009",
   "metadata": {},
   "outputs": [],
   "source": [
    "# TODO: fill epsilon and delta values\n",
    "# EPSILON = ...\n",
    "# DETLA = ...\n",
    "\n",
    "# Correction\n",
    "EPSILON = 0.1\n",
    "DELTA = 1/10000"
   ]
  },
  {
   "cell_type": "code",
   "execution_count": 19,
   "id": "35deea19-ab78-4c69-b003-b2e2f8100835",
   "metadata": {},
   "outputs": [],
   "source": [
    "privacy = Privacy(epsilon=EPSILON, delta=DELTA)"
   ]
  },
  {
   "cell_type": "markdown",
   "id": "6c6315ed-a4fe-43f3-bb02-2d1aff627422",
   "metadata": {},
   "source": [
    "### Step 3.2: Prepare the metadata"
   ]
  },
  {
   "cell_type": "markdown",
   "id": "26eed1da-bcdf-41f7-a74e-bfb0dfabcc39",
   "metadata": {},
   "source": [
    "Next we prepare the metadata. The format expected is explained [here](https://docs.smartnoise.org/sql/metadata.html#metadata) in `smartnoise-sql` documentation. It can be provided in different format such as an external `yaml` file or a dictionnary. In this notebook we will use the [dictionnary format](https://docs.smartnoise.org/sql/metadata.html#dictionary-format).\n",
    "\n",
    "There are `Table Options` and `Column Options`. \n",
    "- `Table Options` apply on the whole table and can further configure queries. The have predertermined default values and should only be overriden with caution. For now, we will keep the default.\n",
    "- `Column Options` are compulsory and describe the table column by column.\n",
    "    - Each column must have the exact same name in the metadata and in the column of the table.\n",
    "    - Each column needs a `type`, indicates the type for all values in the column (type may be one of 'int', 'float', 'str', 'boolean', or 'datetime').\n",
    "    - Columns with numbers ('int', 'float') should additionally have `lower` and `upper` bounds. Meaning the minimum and maximum theoretically possible values for this column. This is important as it enables to compute the sensitivy and hence, calibrate the differentially private noise.\n",
    "    - Optionnally a boolean `nullable` can be provided if the user knows that there are no `null` values. By default it is True meaning that columns may contain `null` values.\n",
    "    - Other options are possible but won't be treated in this notebook."
   ]
  },
  {
   "cell_type": "markdown",
   "id": "95748fbb-ab09-4d83-b145-7e5b9b3051b2",
   "metadata": {},
   "source": [
    "We look at the dataset again to determine the types:"
   ]
  },
  {
   "cell_type": "code",
   "execution_count": 17,
   "id": "1ebdd689-dbfb-4f62-a598-b8edca264abc",
   "metadata": {},
   "outputs": [
    {
     "data": {
      "text/html": [
       "<div>\n",
       "<style scoped>\n",
       "    .dataframe tbody tr th:only-of-type {\n",
       "        vertical-align: middle;\n",
       "    }\n",
       "\n",
       "    .dataframe tbody tr th {\n",
       "        vertical-align: top;\n",
       "    }\n",
       "\n",
       "    .dataframe thead th {\n",
       "        text-align: right;\n",
       "    }\n",
       "</style>\n",
       "<table border=\"1\" class=\"dataframe\">\n",
       "  <thead>\n",
       "    <tr style=\"text-align: right;\">\n",
       "      <th></th>\n",
       "      <th>species</th>\n",
       "      <th>island</th>\n",
       "      <th>bill_length_mm</th>\n",
       "      <th>bill_depth_mm</th>\n",
       "      <th>flipper_length_mm</th>\n",
       "      <th>body_mass_g</th>\n",
       "      <th>sex</th>\n",
       "    </tr>\n",
       "  </thead>\n",
       "  <tbody>\n",
       "    <tr>\n",
       "      <th>0</th>\n",
       "      <td>Adelie</td>\n",
       "      <td>Torgersen</td>\n",
       "      <td>39.1</td>\n",
       "      <td>18.7</td>\n",
       "      <td>181.0</td>\n",
       "      <td>3750.0</td>\n",
       "      <td>MALE</td>\n",
       "    </tr>\n",
       "  </tbody>\n",
       "</table>\n",
       "</div>"
      ],
      "text/plain": [
       "  species     island  bill_length_mm  bill_depth_mm  flipper_length_mm  \\\n",
       "0  Adelie  Torgersen            39.1           18.7              181.0   \n",
       "\n",
       "   body_mass_g   sex  \n",
       "0       3750.0  MALE  "
      ]
     },
     "execution_count": 17,
     "metadata": {},
     "output_type": "execute_result"
    }
   ],
   "source": [
    "df.head(1)"
   ]
  },
  {
   "cell_type": "code",
   "execution_count": 26,
   "id": "6749ef44-ee7c-4b89-8656-0177851261aa",
   "metadata": {},
   "outputs": [],
   "source": [
    "species_col = {'type': 'str', 'nullable': False}\n",
    "island_col = {'type': 'str', 'nullable': False}\n",
    "bill_length_col = {'type': 'float', 'lower': 30.0, 'upper': 65.0}\n",
    "bill_depth_col = {'type': 'float', 'lower': 13.0, 'upper': 23.0}\n",
    "flipper_length_col = {'type': 'float', 'lower': 150.0, 'upper': 250.0}"
   ]
  },
  {
   "cell_type": "code",
   "execution_count": 27,
   "id": "e8007237-1c46-4c9e-809d-e3f36db72781",
   "metadata": {},
   "outputs": [],
   "source": [
    "# TODO: Fill body_mass_g and sex column metadata knowing that these specied of penguins typically weight between 2000.0 and 7000.0 grammes. We cannot say for sure that there are no nulls in these columns.\n",
    "# body_mass_g_col = ...\n",
    "# sex_col = ...\n",
    "\n",
    "# Correction\n",
    "body_mass_g_col = {'type': 'float', 'lower': 2000.0, 'upper': 7000.0}\n",
    "sex_col = {'type': 'str'}"
   ]
  },
  {
   "cell_type": "code",
   "execution_count": 28,
   "id": "9ee726d3-9ea8-4f75-a369-e2695c7657d9",
   "metadata": {},
   "outputs": [],
   "source": [
    "# 'str' is for a chain of character and 'float' is for decimal numbers.\n",
    "metadata_columns = {\n",
    "    'species': species_col,\n",
    "    'island': island_col,\n",
    "    'bill_length_mm': bill_length_col,\n",
    "    'bill_depth_mm': bill_depth_col,\n",
    "    'flipper_length_mm': flipper_length_col,\n",
    "    'body_mass_g': body_mass_g_col,\n",
    "    'sex': sex_col, \n",
    "}"
   ]
  },
  {
   "cell_type": "markdown",
   "id": "c1e8a173-ebbf-4dc4-a0ca-b33dbcc0ecd9",
   "metadata": {},
   "source": [
    "### Step 3.3: Instantiate the reader"
   ]
  },
  {
   "cell_type": "markdown",
   "id": "98c4f5b5-e888-4e1f-943f-14483b077800",
   "metadata": {},
   "source": [
    "All arguments are now available to create the reader object mentionned at the begin of step 3."
   ]
  },
  {
   "cell_type": "code",
   "execution_count": null,
   "id": "eb7e61a7-c283-4e82-9ba7-627a95f5ac31",
   "metadata": {},
   "outputs": [],
   "source": [
    "# TODO: Instantiate the reader object\n",
    "reader = from_df(df = ..., metadata=..., privacy=privacy)"
   ]
  },
  {
   "cell_type": "code",
   "execution_count": null,
   "id": "8b854f15-2c97-4fa8-a285-1d092c0fdc92",
   "metadata": {},
   "outputs": [],
   "source": []
  },
  {
   "cell_type": "markdown",
   "id": "75df751c-4e13-4bd8-9fc4-adfec3aca9a2",
   "metadata": {},
   "source": [
    "## Step 4: Differentially Private Dataset Query"
   ]
  },
  {
   "cell_type": "code",
   "execution_count": null,
   "id": "b3e37730-bb06-49e2-ba92-3f6583e519f3",
   "metadata": {},
   "outputs": [],
   "source": []
  }
 ],
 "metadata": {
  "kernelspec": {
   "display_name": "Python 3 (ipykernel)",
   "language": "python",
   "name": "python3"
  },
  "language_info": {
   "codemirror_mode": {
    "name": "ipython",
    "version": 3
   },
   "file_extension": ".py",
   "mimetype": "text/x-python",
   "name": "python",
   "nbconvert_exporter": "python",
   "pygments_lexer": "ipython3",
   "version": "3.11.11"
  }
 },
 "nbformat": 4,
 "nbformat_minor": 5
}
