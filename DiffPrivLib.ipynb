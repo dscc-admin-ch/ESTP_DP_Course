{
 "cells": [
  {
   "cell_type": "markdown",
   "id": "736b2ba8-a7f8-4130-a75b-93bb43364fa6",
   "metadata": {},
   "source": [
    "# Introduction to DiffPrivLib"
   ]
  },
  {
   "cell_type": "markdown",
   "id": "c2fd6a0c-3905-42c4-914c-fbe4a6561f8a",
   "metadata": {},
   "source": [
    "[DiffPrivLib](https://diffprivlib.readthedocs.io/en/latest/index.html) is a python library dedicated to differential privacy and machine learning. It is based on `scikit-learn` library. \n",
    "\n",
    "Some other [introduction notebooks](https://github.com/IBM/differential-privacy-library/tree/main/notebooks) are available directly in the official library repository."
   ]
  },
  {
   "cell_type": "markdown",
   "id": "1fb8d7aa-47a7-4915-b52f-e9d540b1192b",
   "metadata": {},
   "source": [
    "## Step 1: Install the Library\n",
    "Diffprivlib is available on pypi, it can be installed via the pip command. We will use the latest version of the library to date: version 0.6.6."
   ]
  },
  {
   "cell_type": "code",
   "execution_count": 62,
   "id": "378676fe-5cfd-4b68-abc8-c10515754ce2",
   "metadata": {},
   "outputs": [
    {
     "name": "stdout",
     "output_type": "stream",
     "text": [
      "Defaulting to user installation because normal site-packages is not writeable\n",
      "Requirement already satisfied: diffprivlib==0.6.6 in /home/bfs/.local/lib/python3.11/site-packages (0.6.6)\n",
      "Requirement already satisfied: numpy>=2.0.0 in /opt/conda/envs/dap/lib/python3.11/site-packages (from diffprivlib==0.6.6) (2.2.4)\n",
      "Requirement already satisfied: scikit-learn>=1.4.0 in /home/bfs/.local/lib/python3.11/site-packages (from diffprivlib==0.6.6) (1.7.1)\n",
      "Requirement already satisfied: scipy>=1.13.0 in /home/bfs/.local/lib/python3.11/site-packages (from diffprivlib==0.6.6) (1.16.1)\n",
      "Requirement already satisfied: joblib>=0.16.0 in /home/bfs/.local/lib/python3.11/site-packages (from diffprivlib==0.6.6) (1.5.1)\n",
      "Requirement already satisfied: setuptools>=49.0.0 in /opt/conda/envs/dap/lib/python3.11/site-packages (from diffprivlib==0.6.6) (78.1.0)\n",
      "Requirement already satisfied: threadpoolctl>=3.1.0 in /home/bfs/.local/lib/python3.11/site-packages (from scikit-learn>=1.4.0->diffprivlib==0.6.6) (3.6.0)\n"
     ]
    }
   ],
   "source": [
    "!pip install diffprivlib==0.6.6"
   ]
  },
  {
   "cell_type": "markdown",
   "id": "5856aa74-0269-4c83-8027-86a05a6d8695",
   "metadata": {},
   "source": [
    "## Step 2: Load and Prepare Data\n",
    "\n",
    "### Load penguin dataset\n",
    "\n",
    "In this notebook, we will work with the [penguin dataset](\"https://raw.githubusercontent.com/mwaskom/seaborn-data/master/penguins.csv\") from [seaborn datasets](https://github.com/mwaskom/seaborn-data).\n",
    "We load the dataset via pandas in a dataframe `df`."
   ]
  },
  {
   "cell_type": "code",
   "execution_count": 63,
   "id": "9db7497b-8805-4786-bc19-431841d16d67",
   "metadata": {},
   "outputs": [],
   "source": [
    "import pandas as pd"
   ]
  },
  {
   "cell_type": "code",
   "execution_count": 64,
   "id": "67e32ecd-3298-49d7-9a89-932cfe701556",
   "metadata": {},
   "outputs": [],
   "source": [
    "path_to_data = \"https://raw.githubusercontent.com/mwaskom/seaborn-data/master/penguins.csv\"\n",
    "df = pd.read_csv(path_to_data)"
   ]
  },
  {
   "cell_type": "markdown",
   "id": "ee3fa0dd-b533-484a-95f4-8a18982a01f3",
   "metadata": {},
   "source": [
    "We can look at the first rows of the dataframe to get to know the data:"
   ]
  },
  {
   "cell_type": "code",
   "execution_count": 65,
   "id": "c60a81ad-15d4-4686-b096-788abd7c316a",
   "metadata": {},
   "outputs": [
    {
     "data": {
      "text/html": [
       "<div>\n",
       "<style scoped>\n",
       "    .dataframe tbody tr th:only-of-type {\n",
       "        vertical-align: middle;\n",
       "    }\n",
       "\n",
       "    .dataframe tbody tr th {\n",
       "        vertical-align: top;\n",
       "    }\n",
       "\n",
       "    .dataframe thead th {\n",
       "        text-align: right;\n",
       "    }\n",
       "</style>\n",
       "<table border=\"1\" class=\"dataframe\">\n",
       "  <thead>\n",
       "    <tr style=\"text-align: right;\">\n",
       "      <th></th>\n",
       "      <th>species</th>\n",
       "      <th>island</th>\n",
       "      <th>bill_length_mm</th>\n",
       "      <th>bill_depth_mm</th>\n",
       "      <th>flipper_length_mm</th>\n",
       "      <th>body_mass_g</th>\n",
       "      <th>sex</th>\n",
       "    </tr>\n",
       "  </thead>\n",
       "  <tbody>\n",
       "    <tr>\n",
       "      <th>0</th>\n",
       "      <td>Adelie</td>\n",
       "      <td>Torgersen</td>\n",
       "      <td>39.1</td>\n",
       "      <td>18.7</td>\n",
       "      <td>181.0</td>\n",
       "      <td>3750.0</td>\n",
       "      <td>MALE</td>\n",
       "    </tr>\n",
       "    <tr>\n",
       "      <th>1</th>\n",
       "      <td>Adelie</td>\n",
       "      <td>Torgersen</td>\n",
       "      <td>39.5</td>\n",
       "      <td>17.4</td>\n",
       "      <td>186.0</td>\n",
       "      <td>3800.0</td>\n",
       "      <td>FEMALE</td>\n",
       "    </tr>\n",
       "    <tr>\n",
       "      <th>2</th>\n",
       "      <td>Adelie</td>\n",
       "      <td>Torgersen</td>\n",
       "      <td>40.3</td>\n",
       "      <td>18.0</td>\n",
       "      <td>195.0</td>\n",
       "      <td>3250.0</td>\n",
       "      <td>FEMALE</td>\n",
       "    </tr>\n",
       "    <tr>\n",
       "      <th>3</th>\n",
       "      <td>Adelie</td>\n",
       "      <td>Torgersen</td>\n",
       "      <td>NaN</td>\n",
       "      <td>NaN</td>\n",
       "      <td>NaN</td>\n",
       "      <td>NaN</td>\n",
       "      <td>NaN</td>\n",
       "    </tr>\n",
       "    <tr>\n",
       "      <th>4</th>\n",
       "      <td>Adelie</td>\n",
       "      <td>Torgersen</td>\n",
       "      <td>36.7</td>\n",
       "      <td>19.3</td>\n",
       "      <td>193.0</td>\n",
       "      <td>3450.0</td>\n",
       "      <td>FEMALE</td>\n",
       "    </tr>\n",
       "  </tbody>\n",
       "</table>\n",
       "</div>"
      ],
      "text/plain": [
       "  species     island  bill_length_mm  bill_depth_mm  flipper_length_mm  \\\n",
       "0  Adelie  Torgersen            39.1           18.7              181.0   \n",
       "1  Adelie  Torgersen            39.5           17.4              186.0   \n",
       "2  Adelie  Torgersen            40.3           18.0              195.0   \n",
       "3  Adelie  Torgersen             NaN            NaN                NaN   \n",
       "4  Adelie  Torgersen            36.7           19.3              193.0   \n",
       "\n",
       "   body_mass_g     sex  \n",
       "0       3750.0    MALE  \n",
       "1       3800.0  FEMALE  \n",
       "2       3250.0  FEMALE  \n",
       "3          NaN     NaN  \n",
       "4       3450.0  FEMALE  "
      ]
     },
     "execution_count": 65,
     "metadata": {},
     "output_type": "execute_result"
    }
   ],
   "source": [
    "df.head()"
   ]
  },
  {
   "cell_type": "markdown",
   "id": "3ea87119-a3f5-4dd0-ba49-68363d4b00c4",
   "metadata": {},
   "source": [
    "### Handle null values\n",
    "\n",
    "DiffPrivLib does not allow null values so we will have to remove or convert them. For simplicity, we will just drop the rows with null values from the dataset."
   ]
  },
  {
   "cell_type": "code",
   "execution_count": 66,
   "id": "4a726b2f-6e70-44e1-bddd-bf5375a37b25",
   "metadata": {},
   "outputs": [
    {
     "name": "stdout",
     "output_type": "stream",
     "text": [
      "344 rows before dropping nulls\n",
      "333 rows after dropping nulls\n"
     ]
    }
   ],
   "source": [
    "print(f\"{df.shape[0]} rows before dropping nulls\")\n",
    "df = df.dropna()\n",
    "print(f\"{df.shape[0]} rows after dropping nulls\")"
   ]
  },
  {
   "cell_type": "markdown",
   "id": "4cec72b6-df00-440b-92a7-ccc415efd27c",
   "metadata": {},
   "source": [
    "### Encode columns for Machine Learning\n",
    "\n",
    "In the following analysis, we will use the `sex` column as a feature column. We encode the `MALE` and `FEMALE` strings in numbers that the models will the able to use."
   ]
  },
  {
   "cell_type": "code",
   "execution_count": 67,
   "id": "75671917-d7d7-42ea-a5a0-a6aae4b369e8",
   "metadata": {},
   "outputs": [],
   "source": [
    "df[\"sex\"] = df[\"sex\"].map({\"MALE\": 0, \"FEMALE\": 1})"
   ]
  },
  {
   "cell_type": "code",
   "execution_count": 68,
   "id": "02c47d59-7624-41b1-9f59-4ff31f3c6d73",
   "metadata": {},
   "outputs": [
    {
     "data": {
      "text/html": [
       "<div>\n",
       "<style scoped>\n",
       "    .dataframe tbody tr th:only-of-type {\n",
       "        vertical-align: middle;\n",
       "    }\n",
       "\n",
       "    .dataframe tbody tr th {\n",
       "        vertical-align: top;\n",
       "    }\n",
       "\n",
       "    .dataframe thead th {\n",
       "        text-align: right;\n",
       "    }\n",
       "</style>\n",
       "<table border=\"1\" class=\"dataframe\">\n",
       "  <thead>\n",
       "    <tr style=\"text-align: right;\">\n",
       "      <th></th>\n",
       "      <th>species</th>\n",
       "      <th>island</th>\n",
       "      <th>bill_length_mm</th>\n",
       "      <th>bill_depth_mm</th>\n",
       "      <th>flipper_length_mm</th>\n",
       "      <th>body_mass_g</th>\n",
       "      <th>sex</th>\n",
       "    </tr>\n",
       "  </thead>\n",
       "  <tbody>\n",
       "    <tr>\n",
       "      <th>0</th>\n",
       "      <td>Adelie</td>\n",
       "      <td>Torgersen</td>\n",
       "      <td>39.1</td>\n",
       "      <td>18.7</td>\n",
       "      <td>181.0</td>\n",
       "      <td>3750.0</td>\n",
       "      <td>0</td>\n",
       "    </tr>\n",
       "    <tr>\n",
       "      <th>1</th>\n",
       "      <td>Adelie</td>\n",
       "      <td>Torgersen</td>\n",
       "      <td>39.5</td>\n",
       "      <td>17.4</td>\n",
       "      <td>186.0</td>\n",
       "      <td>3800.0</td>\n",
       "      <td>1</td>\n",
       "    </tr>\n",
       "  </tbody>\n",
       "</table>\n",
       "</div>"
      ],
      "text/plain": [
       "  species     island  bill_length_mm  bill_depth_mm  flipper_length_mm  \\\n",
       "0  Adelie  Torgersen            39.1           18.7              181.0   \n",
       "1  Adelie  Torgersen            39.5           17.4              186.0   \n",
       "\n",
       "   body_mass_g  sex  \n",
       "0       3750.0    0  \n",
       "1       3800.0    1  "
      ]
     },
     "execution_count": 68,
     "metadata": {},
     "output_type": "execute_result"
    }
   ],
   "source": [
    "df.head(2)"
   ]
  },
  {
   "cell_type": "markdown",
   "id": "c74635a3-6393-4691-9d04-e74d03976002",
   "metadata": {},
   "source": [
    "## Step 3: Logistic Regression with DiffPrivLib\n",
    "We want to predict penguin's species based on bill length, bill depth, flipper length, body mass and sex.\n",
    "\n",
    "Therefore, we will do a multiclass (there are 3 species) logistic regression."
   ]
  },
  {
   "cell_type": "markdown",
   "id": "0fca9ac5-1c57-4c94-bb04-a16a1ec6ef26",
   "metadata": {},
   "source": [
    "We first split the data between features and target (to predict)."
   ]
  },
  {
   "cell_type": "code",
   "execution_count": 69,
   "id": "86da38f1-23be-4bc7-ae8d-ec3bbed087c9",
   "metadata": {},
   "outputs": [],
   "source": [
    "feature_columns = ['bill_length_mm', 'bill_depth_mm', 'flipper_length_mm', 'body_mass_g', 'sex']\n",
    "target_columns = ['species']"
   ]
  },
  {
   "cell_type": "code",
   "execution_count": 70,
   "id": "d41b0a71-38f0-4335-a343-d43eafc84aba",
   "metadata": {},
   "outputs": [],
   "source": [
    "feature_data = df[feature_columns]\n",
    "label_data = df[target_columns]"
   ]
  },
  {
   "cell_type": "markdown",
   "id": "38ecc27a-aa0c-4a4c-85a7-7f43e70a5614",
   "metadata": {},
   "source": [
    "And then split the data to get a training and a testing set with the [train_test_split function](https://scikit-learn.org/stable/modules/generated/sklearn.model_selection.train_test_split.html#train-test-split) from scikit-learn."
   ]
  },
  {
   "cell_type": "code",
   "execution_count": 71,
   "id": "54d54185-0ef5-4b1e-b598-c4da0804af4d",
   "metadata": {},
   "outputs": [],
   "source": [
    "from sklearn.model_selection import train_test_split"
   ]
  },
  {
   "cell_type": "code",
   "execution_count": 72,
   "id": "a3e1c687-0aa6-44da-aa14-da7b514b5118",
   "metadata": {},
   "outputs": [],
   "source": [
    "TEST_SIZE = 0.2\n",
    "RANDOM_STATE = 1 \n",
    "\n",
    "x_train, x_test, y_train, y_test = train_test_split(\n",
    "    feature_data,\n",
    "    label_data,\n",
    "    test_size=TEST_SIZE,\n",
    "    random_state=RANDOM_STATE,\n",
    ")\n",
    "y_train = y_train.to_numpy().ravel()"
   ]
  },
  {
   "cell_type": "markdown",
   "id": "0f2c9b41-507a-4179-8ef2-a04489e23567",
   "metadata": {},
   "source": [
    "Then we define the logistic regression pipeline [see doc](https://diffprivlib.readthedocs.io/en/latest/modules/models.html#logistic-regression):"
   ]
  },
  {
   "cell_type": "code",
   "execution_count": 73,
   "id": "b6227af2-5e9a-4d3f-a0c3-105128ead2c1",
   "metadata": {},
   "outputs": [],
   "source": [
    "from diffprivlib import models"
   ]
  },
  {
   "cell_type": "code",
   "execution_count": 74,
   "id": "2882046e-d828-4481-bd3e-9cf269d7ac38",
   "metadata": {},
   "outputs": [],
   "source": [
    "log_reg = models.LogisticRegression(epsilon = 1.0)"
   ]
  },
  {
   "cell_type": "markdown",
   "id": "63956dd1-1e00-418e-bfc3-fb48a159e649",
   "metadata": {},
   "source": [
    "And fit it on the training set:"
   ]
  },
  {
   "cell_type": "code",
   "execution_count": 75,
   "id": "1d5010fd-f9bd-45e0-a617-e6831c01ba23",
   "metadata": {},
   "outputs": [
    {
     "name": "stderr",
     "output_type": "stream",
     "text": [
      "/home/bfs/.local/lib/python3.11/site-packages/diffprivlib/models/logistic_regression.py:231: PrivacyLeakWarning: Data norm has not been specified and will be calculated on the data provided.  This will result in additional privacy leakage. To ensure differential privacy and no additional privacy leakage, specify `data_norm` at initialisation.\n",
      "  warnings.warn(\"Data norm has not been specified and will be calculated on the data provided.  This will \"\n"
     ]
    }
   ],
   "source": [
    "dpl_pipeline = log_reg.fit(x_train, y_train)"
   ]
  },
  {
   "cell_type": "markdown",
   "id": "93aff436-8478-453f-8300-dcefd547e52b",
   "metadata": {},
   "source": [
    "### Pipeline with logistic regression only (no standard scaler)\n",
    "\n",
    "We see that we get a `PrivacyLeakWarning` warning (the light red text below the previous cell) because we did not specify the `data_norm` parameter. \n",
    "\n",
    "Differential privacy mechanisms need to know how much one individual’s record can change the model. This depends on the sensitivity of the loss function, which in turn depends on the size of feature vectors. `data_norm` is that bound: The maximum $L2$ norm of any single row (feature vector) in the dataset. \n",
    "\n",
    "If it is not specified, DiffPrivLib will infer if from the training data. This may leak information about the dataset (e.g. what the max value was), hence the PrivacyLeakWarning. To avoid that, we should decide on `data_norm` based on domain knowledge before looking at the data.\n",
    "\n",
    "As common knowledge (without looking at the data), we know that:\n",
    "- bill length $\\in [30.0, 65.0]$,\n",
    "- bill depth $\\in [13.0, 23.0]$,\n",
    "- flipper length $\\in [150.0, 250.0]$,\n",
    "- body mass $\\in [2000.0, 7000.0]$,\n",
    "- sex $\\in [0, 1]$.\n",
    "\n",
    "Formally, for a row $x = (x_1, \\ldots, x_d)$, its L2 norm is $\\|x\\|_2 = \\sqrt{x_1^2 + x_2^2 + \\cdots + x_d^2}$.\n",
    "\n",
    "The $L2$ norm of a row \\(x\\) can be bounded using the feature sensitivities:\n",
    "\n",
    "$$\n",
    "data\\_norm = \\sqrt{\n",
    "(\\text{bill length})^2 +\n",
    "(\\text{bill depth})^2 +\n",
    "(\\text{flipper length})^2 +\n",
    "(\\text{body mass})^2 +\n",
    "(\\text{sex})^2\n",
    "}\n",
    "$$\n",
    "\n",
    "An upper bound on the maximum $L2$ norm of any row on the dataset is thus:\n",
    "$$\n",
    "data\\_norm \\leq \\sqrt{\n",
    "(\\text{max bill length})^2 +\n",
    "(\\text{max bill depth})^2 +\n",
    "(\\text{max flipper length})^2 +\n",
    "(\\text{max body mass})^2 +\n",
    "(\\text{max sex})^2\n",
    "}\n",
    "$$\n"
   ]
  },
  {
   "cell_type": "markdown",
   "id": "0adccf7b-2361-4d15-9fa3-916244d4ede2",
   "metadata": {},
   "source": [
    "Writing it in a metadata dictionnary, we can then compute the `data_norm`:"
   ]
  },
  {
   "cell_type": "code",
   "execution_count": 76,
   "id": "932b16f3-b473-4d60-b296-ac3073b9e93c",
   "metadata": {},
   "outputs": [],
   "source": [
    "import numpy as np"
   ]
  },
  {
   "cell_type": "code",
   "execution_count": 77,
   "id": "88232fbf-0672-4930-8286-9cfc065c030d",
   "metadata": {},
   "outputs": [],
   "source": [
    "bounds = {\n",
    "    'bill_length_mm': {'lower': 30.0, 'upper': 65.0},\n",
    "    'bill_depth_mm': {'lower': 13.0, 'upper': 23.0},\n",
    "    'flipper_length_mm': {'lower': 150.0, 'upper': 250.0},\n",
    "    'body_mass_g': {'lower': 2000.0, 'upper': 7000.0},\n",
    "    'sex': {'lower': 0.0, 'upper': 1.0}, \n",
    "}"
   ]
  },
  {
   "cell_type": "code",
   "execution_count": 78,
   "id": "d1e1b6ee-933f-43e4-9085-7afd746ad9fa",
   "metadata": {},
   "outputs": [
    {
     "name": "stdout",
     "output_type": "stream",
     "text": [
      "data_norm = 7004.802281292456\n"
     ]
    }
   ],
   "source": [
    "# TODO: compute the data_norm\n",
    "#sensitivities = ...\n",
    "#data_norm = ...\n",
    "\n",
    "# Correction\n",
    "data_norm = np.sqrt(sum(v['upper']**2 for v in bounds.values()))\n",
    "print(\"data_norm =\", data_norm)"
   ]
  },
  {
   "cell_type": "markdown",
   "id": "73334b38-d7b1-4c92-aee6-9877832f634c",
   "metadata": {},
   "source": [
    "We rewrite the model pipeline with the `data_norm`"
   ]
  },
  {
   "cell_type": "code",
   "execution_count": 79,
   "id": "b9f60ee6-7621-4ad8-b88b-174dfb76a94e",
   "metadata": {},
   "outputs": [],
   "source": [
    "log_reg = models.LogisticRegression(epsilon = 1.0, data_norm=data_norm)"
   ]
  },
  {
   "cell_type": "markdown",
   "id": "fcf0c6ed-9454-45aa-aeca-1e1e3cc175d7",
   "metadata": {},
   "source": [
    "Fit it on the training set"
   ]
  },
  {
   "cell_type": "code",
   "execution_count": 80,
   "id": "8d30d2e9-2a6e-48f3-b9c4-bf47b197ba68",
   "metadata": {},
   "outputs": [],
   "source": [
    "log_reg = log_reg.fit(x_train, y_train)"
   ]
  },
  {
   "cell_type": "markdown",
   "id": "b365003c-dba3-4d36-ac56-6226b05ba93f",
   "metadata": {},
   "source": [
    "And asses its score (mean accuracy) on the testing set [doc here](https://diffprivlib.readthedocs.io/en/latest/modules/models.html#diffprivlib.models.LogisticRegression.score):"
   ]
  },
  {
   "cell_type": "code",
   "execution_count": 81,
   "id": "5922d171-b1e3-4666-81dd-485c03f93b9a",
   "metadata": {},
   "outputs": [
    {
     "data": {
      "text/plain": [
       "0.22388059701492538"
      ]
     },
     "execution_count": 81,
     "metadata": {},
     "output_type": "execute_result"
    }
   ],
   "source": [
    "score = log_reg.score(x_test, y_test)\n",
    "score"
   ]
  },
  {
   "cell_type": "markdown",
   "id": "ebf6883b-7465-4209-8ea9-2ed8a84859ad",
   "metadata": {},
   "source": [
    "Note: This is not DP but we can verify that our assumption for the data_norm was correct with:"
   ]
  },
  {
   "cell_type": "code",
   "execution_count": 82,
   "id": "5c16575a-660d-475b-b7dd-466f78cd8fc7",
   "metadata": {},
   "outputs": [],
   "source": [
    "# Not DP\n",
    "true_max_data_norm = np.linalg.norm(feature_data, axis=1).max()  # Not DP\n",
    "assert true_max_data_norm < data_norm, \"There was an issue in the data_norm computation. Underestimated.\""
   ]
  },
  {
   "cell_type": "markdown",
   "id": "12f22661-60ee-458a-9c4b-6722ae37cc4e",
   "metadata": {},
   "source": [
    "### Pipeline with standard scaler before logistic regression"
   ]
  },
  {
   "cell_type": "markdown",
   "id": "f630786a-d49b-4979-9b5c-294d000528d8",
   "metadata": {},
   "source": [
    "In the previous model, we trained logistic regression without scaling, and we observed that features have very different ranges (e.g., body mass in thousands, sex as 0/1).  \n",
    "This can cause the optimizer to converge slower, coefficients to be unbalanced, and, in the case of differential privacy, very large row norms that increase the amount of noise added.  \n",
    "\n",
    "To address this, we will build a pipeline, where we first scale the data with a `StandardScaler` [(doc here)](https://diffprivlib.readthedocs.io/en/latest/modules/models.html#standard-scaler) and then fit a logistic regression. Scaling the features puts them on a similar range, improves optimization, and reduces row norms, which leads to better performance and more accurate differentially private estimates.\n",
    "\n",
    "---\n",
    "\n",
    "Unlike logistic regression, the `StandardScaler` does not take a `data_norm` parameter.  \n",
    "Instead, it requires `bounds` for each feature in order to determine the sensitivity and calibrate the amount of noise to add.  \n",
    "\n",
    "For a given feature, the sensitivity is defined as  \n",
    "\n",
    "$$\n",
    "sens = \\text{max} - \\text{min}.\n",
    "$$\n",
    "\n",
    "For example, consider the feature `bill_length_mm` with bounds:\n",
    "\n",
    "$$\n",
    "\\text{min} = 30.0, \\quad \\text{max} = 65.0\n",
    "$$\n",
    "\n",
    "The sensitivity is  \n",
    "\n",
    "$$\n",
    "sens = 65.0 - 30.0 = 35.0\n",
    "$$\n",
    "\n",
    "If we use the Laplace mechanism, the privatized query for this feature would be  \n",
    "\n",
    "$$\n",
    "M(S) = q(S) + \\text{Lap}\\left(0, \\frac{35.0}{\\epsilon}\\right)\n",
    "$$\n",
    "\n",
    "where $\\epsilon$ is the privacy budget."
   ]
  },
  {
   "cell_type": "code",
   "execution_count": 83,
   "id": "82312ab6-f5ab-4c91-b4d7-52692154e864",
   "metadata": {},
   "outputs": [],
   "source": [
    "from sklearn.pipeline import Pipeline"
   ]
  },
  {
   "cell_type": "code",
   "execution_count": 84,
   "id": "4292d03b-e79e-4bcd-93b5-be7efc2fdd1d",
   "metadata": {},
   "outputs": [],
   "source": [
    "def get_bounds(bounds, columns):\n",
    "    lower = [bounds[col][\"lower\"] for col in columns]\n",
    "    upper = [bounds[col][\"upper\"] for col in columns]\n",
    "    return (lower, upper)"
   ]
  },
  {
   "cell_type": "code",
   "execution_count": 85,
   "id": "3eab1952-9eb5-47b3-8ca7-a554916255d3",
   "metadata": {},
   "outputs": [
    {
     "data": {
      "text/plain": [
       "([30.0, 13.0, 150.0, 2000.0, 0.0], [65.0, 23.0, 250.0, 7000.0, 1.0])"
      ]
     },
     "execution_count": 85,
     "metadata": {},
     "output_type": "execute_result"
    }
   ],
   "source": [
    "metadata_bounds = get_bounds(bounds, columns=feature_columns)\n",
    "metadata_bounds"
   ]
  },
  {
   "cell_type": "markdown",
   "id": "5f79f430-cc06-4886-b386-35178e9e0bec",
   "metadata": {},
   "source": [
    "After scaling with `StandardScaler`, each feature is centered to mean 0 and scaled by its standard deviation. \n",
    "\n",
    "Based on the [68–95–99.7 rule](https://en.wikipedia.org/wiki/68%E2%80%9395%E2%80%9399.7_rule), most values are mapped to [-3,3]. We take an even more conservative estimate with bounds between $[-4, 4]$. We can then compute an upper bound for `data_norm` using the new bounds of each scaled feature."
   ]
  },
  {
   "cell_type": "code",
   "execution_count": 86,
   "id": "ffd4dffd-a40a-4467-b963-325a265bd7a0",
   "metadata": {},
   "outputs": [],
   "source": [
    "STD_BOUND = 4"
   ]
  },
  {
   "cell_type": "code",
   "execution_count": 87,
   "id": "4e3da4ef-4224-40e4-aa17-267f23677276",
   "metadata": {},
   "outputs": [
    {
     "name": "stdout",
     "output_type": "stream",
     "text": [
      "scaled_data_norm: 8.94427190999916\n"
     ]
    }
   ],
   "source": [
    "scaled_data_norm = np.sqrt(sum(STD_BOUND**2 for i in range(len(feature_columns))))\n",
    "print(\"scaled_data_norm:\", scaled_data_norm)"
   ]
  },
  {
   "cell_type": "markdown",
   "id": "371dc829-90b9-4739-8712-8bc9fc734387",
   "metadata": {},
   "source": [
    "Now fix this pipeline to avoid `PrivacyLeakWarning`"
   ]
  },
  {
   "cell_type": "code",
   "execution_count": 88,
   "id": "75b10566-ee48-421b-9321-d2ffe215d5e2",
   "metadata": {},
   "outputs": [],
   "source": [
    "# TODO: Remove the privacy leak warning\n",
    "#dpl_pipeline_with_scaler = Pipeline([\n",
    "#    ('scaler', models.StandardScaler(epsilon = 0.5)),\n",
    "#    ('classifier', models.LogisticRegression(epsilon = 1.0))\n",
    "#])\n",
    "#dpl_pipeline_with_scaler = dpl_pipeline_with_scaler.fit(x_train, y_train)\n",
    "\n",
    "# Correction\n",
    "dpl_pipeline_with_scaler = Pipeline([\n",
    "    ('scaler', models.StandardScaler(epsilon = 0.5, bounds=metadata_bounds)),\n",
    "    ('classifier', models.LogisticRegression(epsilon = 1.0, data_norm=scaled_data_norm))\n",
    "])\n",
    "dpl_pipeline_with_scaler = dpl_pipeline_with_scaler.fit(x_train, y_train)"
   ]
  },
  {
   "cell_type": "markdown",
   "id": "b9b0ff31-4cea-4b37-bcd4-5a7dff621d74",
   "metadata": {},
   "source": [
    "And evaluating score of this new model:"
   ]
  },
  {
   "cell_type": "code",
   "execution_count": 89,
   "id": "891ecf42-102a-4ca7-9ac7-b015f95a070e",
   "metadata": {},
   "outputs": [
    {
     "data": {
      "text/plain": [
       "0.417910447761194"
      ]
     },
     "execution_count": 89,
     "metadata": {},
     "output_type": "execute_result"
    }
   ],
   "source": [
    "# TODO: Evaluate the score of this new pipeline\n",
    "#sc_score = ...\n",
    "\n",
    "# Correction\n",
    "sc_score = dpl_pipeline_with_scaler.score(x_test, y_test)\n",
    "sc_score"
   ]
  },
  {
   "cell_type": "markdown",
   "id": "5fe87cc5-3496-40d9-bffc-c53f4fd680db",
   "metadata": {},
   "source": [
    "Again, this is not DP but we can verify that most of the data was within the [-3, 3] bounds after the `Standard Scaler`"
   ]
  },
  {
   "cell_type": "code",
   "execution_count": 90,
   "id": "5ae86e00-6b64-4d1f-936f-b250f2f88043",
   "metadata": {},
   "outputs": [
    {
     "name": "stdout",
     "output_type": "stream",
     "text": [
      "Proportion of values between -4 and 4: 100.0%\n"
     ]
    }
   ],
   "source": [
    "# Not DP\n",
    "# Scale features\n",
    "standard_scaler = models.StandardScaler(epsilon = 0.5, bounds=metadata_bounds)\n",
    "scaled_feature_data = standard_scaler.fit_transform(feature_data)\n",
    "\n",
    "# Percentage of values between -STD_BOUND and STD_BOUND\n",
    "mask = (scaled_feature_data >= -STD_BOUND) & (scaled_feature_data <= STD_BOUND)  # Not DP\n",
    "percentage = mask.sum() / scaled_feature_data.size * 100\n",
    "print(f\"Proportion of values between -{STD_BOUND} and {STD_BOUND}: {percentage}%\")"
   ]
  },
  {
   "cell_type": "markdown",
   "id": "63f631ba-e8c1-40ae-a5d4-07e79f828dc2",
   "metadata": {},
   "source": [
    "### Privacy loss budget accountant"
   ]
  },
  {
   "cell_type": "markdown",
   "id": "031fbc73-75e3-4a05-bef8-10b9726c3408",
   "metadata": {},
   "source": [
    "Another important parameter in DiffPrivLib is an `accountant`. It enables to track the spent budget accross multiple steps in a pipeline and/or accross multiple pipelines.\n",
    "\n",
    "Therefore the same `accountant` instance of `BudgetAccountant` must be provided as input argument of the query. \n",
    "\n",
    "We rewrite here the previous pipeline with the `accountant`."
   ]
  },
  {
   "cell_type": "code",
   "execution_count": 91,
   "id": "d5c4a459-ceb4-4f71-b603-47c48215c55b",
   "metadata": {},
   "outputs": [],
   "source": [
    "from diffprivlib import BudgetAccountant"
   ]
  },
  {
   "cell_type": "code",
   "execution_count": 92,
   "id": "a0ea5e75-012c-411b-88d1-3e93c6523011",
   "metadata": {},
   "outputs": [],
   "source": [
    "accountant = BudgetAccountant()\n",
    "\n",
    "dpl_pipeline_with_scaler = Pipeline([\n",
    "    ('scaler', models.StandardScaler(epsilon = 0.5, bounds=metadata_bounds, accountant=accountant)),\n",
    "    ('classifier', models.LogisticRegression(epsilon = 1.0, data_norm=scaled_data_norm, accountant=accountant))\n",
    "])"
   ]
  },
  {
   "cell_type": "markdown",
   "id": "f71460fd-af66-4d03-9893-802a5351cc48",
   "metadata": {},
   "source": [
    "With the `.total()` method, we can see the budget spent by the models. For now it was not fitted on the data so the budget is 0."
   ]
  },
  {
   "cell_type": "code",
   "execution_count": 93,
   "id": "8e648745-260d-41ad-ba73-b9838571864d",
   "metadata": {},
   "outputs": [
    {
     "data": {
      "text/plain": [
       "(epsilon=0, delta=0.0)"
      ]
     },
     "execution_count": 93,
     "metadata": {},
     "output_type": "execute_result"
    }
   ],
   "source": [
    "accountant.total()"
   ]
  },
  {
   "cell_type": "markdown",
   "id": "53b21ca9-0a5c-4f95-b955-68f31fc78173",
   "metadata": {},
   "source": [
    "We train the model on the data and check the budget again:"
   ]
  },
  {
   "cell_type": "code",
   "execution_count": 94,
   "id": "58af5c36-2d28-49ea-b98c-bcd35bfffd3e",
   "metadata": {},
   "outputs": [
    {
     "data": {
      "text/plain": [
       "(epsilon=1.5, delta=0.0)"
      ]
     },
     "execution_count": 94,
     "metadata": {},
     "output_type": "execute_result"
    }
   ],
   "source": [
    "dpl_pipeline_with_scaler = dpl_pipeline_with_scaler.fit(x_train, y_train)\n",
    "accountant.total()"
   ]
  },
  {
   "cell_type": "markdown",
   "id": "add13857-1a98-4c75-a99e-8f262d6137c4",
   "metadata": {},
   "source": [
    "As expected the budget from both steps is spent 0.5 + 1.0 = 1.5 epsilon."
   ]
  },
  {
   "cell_type": "markdown",
   "id": "438f7e45-d07c-4077-9c96-4a3b453c7fe3",
   "metadata": {},
   "source": [
    "### Use the model for prediction"
   ]
  },
  {
   "cell_type": "markdown",
   "id": "9d735f16-d342-4dbf-8570-c64afa12be3b",
   "metadata": {},
   "source": [
    "We can use the model to predict a species depending on the feature values. \n",
    "\n",
    "We try to predict for three cases on female penguins:\n",
    "- the smallest possible value for all features (lower bound)\n",
    "- the biggest possible value for all features (upper bound)\n",
    "- the medium value for all features"
   ]
  },
  {
   "cell_type": "code",
   "execution_count": 95,
   "id": "e7ce4fa2-1026-415a-b0c2-f19b500a08fe",
   "metadata": {},
   "outputs": [
    {
     "data": {
      "text/html": [
       "<div>\n",
       "<style scoped>\n",
       "    .dataframe tbody tr th:only-of-type {\n",
       "        vertical-align: middle;\n",
       "    }\n",
       "\n",
       "    .dataframe tbody tr th {\n",
       "        vertical-align: top;\n",
       "    }\n",
       "\n",
       "    .dataframe thead th {\n",
       "        text-align: right;\n",
       "    }\n",
       "</style>\n",
       "<table border=\"1\" class=\"dataframe\">\n",
       "  <thead>\n",
       "    <tr style=\"text-align: right;\">\n",
       "      <th></th>\n",
       "      <th>bill_length_mm</th>\n",
       "      <th>bill_depth_mm</th>\n",
       "      <th>flipper_length_mm</th>\n",
       "      <th>body_mass_g</th>\n",
       "      <th>sex</th>\n",
       "    </tr>\n",
       "  </thead>\n",
       "  <tbody>\n",
       "    <tr>\n",
       "      <th>0</th>\n",
       "      <td>30.0</td>\n",
       "      <td>13.0</td>\n",
       "      <td>150.0</td>\n",
       "      <td>2000.0</td>\n",
       "      <td>0.0</td>\n",
       "    </tr>\n",
       "    <tr>\n",
       "      <th>1</th>\n",
       "      <td>65.0</td>\n",
       "      <td>23.0</td>\n",
       "      <td>250.0</td>\n",
       "      <td>7000.0</td>\n",
       "      <td>1.0</td>\n",
       "    </tr>\n",
       "    <tr>\n",
       "      <th>2</th>\n",
       "      <td>47.5</td>\n",
       "      <td>18.0</td>\n",
       "      <td>200.0</td>\n",
       "      <td>4500.0</td>\n",
       "      <td>0.5</td>\n",
       "    </tr>\n",
       "  </tbody>\n",
       "</table>\n",
       "</div>"
      ],
      "text/plain": [
       "   bill_length_mm  bill_depth_mm  flipper_length_mm  body_mass_g  sex\n",
       "0            30.0           13.0              150.0       2000.0  0.0\n",
       "1            65.0           23.0              250.0       7000.0  1.0\n",
       "2            47.5           18.0              200.0       4500.0  0.5"
      ]
     },
     "execution_count": 95,
     "metadata": {},
     "output_type": "execute_result"
    }
   ],
   "source": [
    "x_to_predict_dict = {}\n",
    "for col in feature_columns:\n",
    "    lower = bounds[col]['lower']\n",
    "    upper = bounds[col]['upper']\n",
    "    midpoint = (lower + upper) / 2\n",
    "    x_to_predict_dict[col] = [lower, upper, midpoint]\n",
    "\n",
    "x_to_predict = pd.DataFrame(x_to_predict_dict)\n",
    "x_to_predict"
   ]
  },
  {
   "cell_type": "code",
   "execution_count": 96,
   "id": "dcf56f97-8798-44ca-b3b4-4b46943b59c1",
   "metadata": {},
   "outputs": [
    {
     "data": {
      "text/html": [
       "<div>\n",
       "<style scoped>\n",
       "    .dataframe tbody tr th:only-of-type {\n",
       "        vertical-align: middle;\n",
       "    }\n",
       "\n",
       "    .dataframe tbody tr th {\n",
       "        vertical-align: top;\n",
       "    }\n",
       "\n",
       "    .dataframe thead th {\n",
       "        text-align: right;\n",
       "    }\n",
       "</style>\n",
       "<table border=\"1\" class=\"dataframe\">\n",
       "  <thead>\n",
       "    <tr style=\"text-align: right;\">\n",
       "      <th></th>\n",
       "      <th>bill_length_mm</th>\n",
       "      <th>bill_depth_mm</th>\n",
       "      <th>flipper_length_mm</th>\n",
       "      <th>body_mass_g</th>\n",
       "      <th>sex</th>\n",
       "      <th>predictions</th>\n",
       "    </tr>\n",
       "  </thead>\n",
       "  <tbody>\n",
       "    <tr>\n",
       "      <th>0</th>\n",
       "      <td>30.0</td>\n",
       "      <td>13.0</td>\n",
       "      <td>150.0</td>\n",
       "      <td>2000.0</td>\n",
       "      <td>0.0</td>\n",
       "      <td>Chinstrap</td>\n",
       "    </tr>\n",
       "    <tr>\n",
       "      <th>1</th>\n",
       "      <td>65.0</td>\n",
       "      <td>23.0</td>\n",
       "      <td>250.0</td>\n",
       "      <td>7000.0</td>\n",
       "      <td>1.0</td>\n",
       "      <td>Gentoo</td>\n",
       "    </tr>\n",
       "    <tr>\n",
       "      <th>2</th>\n",
       "      <td>47.5</td>\n",
       "      <td>18.0</td>\n",
       "      <td>200.0</td>\n",
       "      <td>4500.0</td>\n",
       "      <td>0.5</td>\n",
       "      <td>Adelie</td>\n",
       "    </tr>\n",
       "  </tbody>\n",
       "</table>\n",
       "</div>"
      ],
      "text/plain": [
       "   bill_length_mm  bill_depth_mm  flipper_length_mm  body_mass_g  sex  \\\n",
       "0            30.0           13.0              150.0       2000.0  0.0   \n",
       "1            65.0           23.0              250.0       7000.0  1.0   \n",
       "2            47.5           18.0              200.0       4500.0  0.5   \n",
       "\n",
       "  predictions  \n",
       "0   Chinstrap  \n",
       "1      Gentoo  \n",
       "2      Adelie  "
      ]
     },
     "execution_count": 96,
     "metadata": {},
     "output_type": "execute_result"
    }
   ],
   "source": [
    "predictions = dpl_pipeline_with_scaler.predict(x_to_predict)\n",
    "x_to_predict[\"predictions\"] = predictions\n",
    "x_to_predict"
   ]
  },
  {
   "cell_type": "markdown",
   "id": "3c03779f-ecde-4498-94fb-3d7e188578a5",
   "metadata": {},
   "source": [
    "## Step 4: Clustering KMeans"
   ]
  },
  {
   "cell_type": "markdown",
   "id": "f4753030-0a7c-43a7-9740-8cc65bf68131",
   "metadata": {},
   "source": [
    "DiffPrivLib allows to use many other models. We will show here a second example with a `StandardScaler` followed by a `K-Means` clustering [(see doc)](https://diffprivlib.readthedocs.io/en/latest/modules/models.html#k-means). \n",
    "\n",
    "We will do 6 clusters on the features 'bill_length_mm', 'bill_depth_mm', 'flipper_length_mm', 'body_mass_g' and 'sex' and see which what cluster emerges. As it is unsupervised learning, there is no target column and we do not do a training and testing set."
   ]
  },
  {
   "cell_type": "code",
   "execution_count": 97,
   "id": "e4deb735-7ba4-4eca-80d2-7bc6c0e89ae9",
   "metadata": {},
   "outputs": [],
   "source": [
    "N_CLUSTERS = 3"
   ]
  },
  {
   "cell_type": "code",
   "execution_count": 98,
   "id": "35bb7bf5-4887-427e-a478-dae2f5b27d5e",
   "metadata": {},
   "outputs": [],
   "source": [
    "feature_columns = ['bill_length_mm', 'bill_depth_mm', 'flipper_length_mm', 'body_mass_g', 'sex']\n",
    "feature_data = df[feature_columns]"
   ]
  },
  {
   "cell_type": "markdown",
   "id": "06b0bfa7-dd53-4797-a48b-834bed419f85",
   "metadata": {},
   "source": [
    "We determine the bound of the input data from the metadata:"
   ]
  },
  {
   "cell_type": "code",
   "execution_count": 99,
   "id": "a7acb612-4549-48f5-910f-f680dd18741d",
   "metadata": {},
   "outputs": [
    {
     "data": {
      "text/plain": [
       "([30.0, 13.0, 150.0, 2000.0, 0.0], [65.0, 23.0, 250.0, 7000.0, 1.0])"
      ]
     },
     "execution_count": 99,
     "metadata": {},
     "output_type": "execute_result"
    }
   ],
   "source": [
    "metadata_bounds = get_bounds(bounds, columns=feature_columns)\n",
    "metadata_bounds"
   ]
  },
  {
   "cell_type": "markdown",
   "id": "44811658-419c-4067-a9f4-32d0e8e8872e",
   "metadata": {},
   "source": [
    "For the bounds after the `StandardScaler` (which are inputs in `K-Means`), we follow the same reasoning as before and assume all data are within $[-3, 3]$:"
   ]
  },
  {
   "cell_type": "code",
   "execution_count": 100,
   "id": "10ee814b-9277-42ce-8eba-494b7d5f41a2",
   "metadata": {},
   "outputs": [
    {
     "data": {
      "text/plain": [
       "([-4, -4, -4, -4, -4], [4, 4, 4, 4, 4])"
      ]
     },
     "execution_count": 100,
     "metadata": {},
     "output_type": "execute_result"
    }
   ],
   "source": [
    "after_std_bounds=([-STD_BOUND]*len(feature_columns), [STD_BOUND]*len(feature_columns))\n",
    "after_std_bounds"
   ]
  },
  {
   "cell_type": "markdown",
   "id": "78af5e58-b3d4-4b7c-8030-234a5a393037",
   "metadata": {},
   "source": [
    "### StandardScaler and KMeans"
   ]
  },
  {
   "cell_type": "code",
   "execution_count": 101,
   "id": "63cda8f2-da82-43d6-b6f6-5021e5c31f68",
   "metadata": {},
   "outputs": [],
   "source": [
    "accountant = BudgetAccountant()\n",
    "\n",
    "kmeans_pipeline = Pipeline([\n",
    "    ('scaler', models.StandardScaler(epsilon = 0.5, bounds=metadata_bounds, accountant=accountant)),\n",
    "    ('kmeans', models.KMeans(n_clusters = N_CLUSTERS, epsilon = 5.0, bounds=after_std_bounds, accountant=accountant)),\n",
    "])"
   ]
  },
  {
   "cell_type": "markdown",
   "id": "4aa1089b-e1cd-49c0-b76b-eb3fd9a05364",
   "metadata": {},
   "source": [
    "Let's fit the K-Meand model on the clusters"
   ]
  },
  {
   "cell_type": "code",
   "execution_count": 102,
   "id": "afe907e1-324a-45d2-9f66-1d1d3e879c4e",
   "metadata": {},
   "outputs": [
    {
     "data": {
      "text/html": [
       "<style>#sk-container-id-3 {\n",
       "  /* Definition of color scheme common for light and dark mode */\n",
       "  --sklearn-color-text: #000;\n",
       "  --sklearn-color-text-muted: #666;\n",
       "  --sklearn-color-line: gray;\n",
       "  /* Definition of color scheme for unfitted estimators */\n",
       "  --sklearn-color-unfitted-level-0: #fff5e6;\n",
       "  --sklearn-color-unfitted-level-1: #f6e4d2;\n",
       "  --sklearn-color-unfitted-level-2: #ffe0b3;\n",
       "  --sklearn-color-unfitted-level-3: chocolate;\n",
       "  /* Definition of color scheme for fitted estimators */\n",
       "  --sklearn-color-fitted-level-0: #f0f8ff;\n",
       "  --sklearn-color-fitted-level-1: #d4ebff;\n",
       "  --sklearn-color-fitted-level-2: #b3dbfd;\n",
       "  --sklearn-color-fitted-level-3: cornflowerblue;\n",
       "\n",
       "  /* Specific color for light theme */\n",
       "  --sklearn-color-text-on-default-background: var(--sg-text-color, var(--theme-code-foreground, var(--jp-content-font-color1, black)));\n",
       "  --sklearn-color-background: var(--sg-background-color, var(--theme-background, var(--jp-layout-color0, white)));\n",
       "  --sklearn-color-border-box: var(--sg-text-color, var(--theme-code-foreground, var(--jp-content-font-color1, black)));\n",
       "  --sklearn-color-icon: #696969;\n",
       "\n",
       "  @media (prefers-color-scheme: dark) {\n",
       "    /* Redefinition of color scheme for dark theme */\n",
       "    --sklearn-color-text-on-default-background: var(--sg-text-color, var(--theme-code-foreground, var(--jp-content-font-color1, white)));\n",
       "    --sklearn-color-background: var(--sg-background-color, var(--theme-background, var(--jp-layout-color0, #111)));\n",
       "    --sklearn-color-border-box: var(--sg-text-color, var(--theme-code-foreground, var(--jp-content-font-color1, white)));\n",
       "    --sklearn-color-icon: #878787;\n",
       "  }\n",
       "}\n",
       "\n",
       "#sk-container-id-3 {\n",
       "  color: var(--sklearn-color-text);\n",
       "}\n",
       "\n",
       "#sk-container-id-3 pre {\n",
       "  padding: 0;\n",
       "}\n",
       "\n",
       "#sk-container-id-3 input.sk-hidden--visually {\n",
       "  border: 0;\n",
       "  clip: rect(1px 1px 1px 1px);\n",
       "  clip: rect(1px, 1px, 1px, 1px);\n",
       "  height: 1px;\n",
       "  margin: -1px;\n",
       "  overflow: hidden;\n",
       "  padding: 0;\n",
       "  position: absolute;\n",
       "  width: 1px;\n",
       "}\n",
       "\n",
       "#sk-container-id-3 div.sk-dashed-wrapped {\n",
       "  border: 1px dashed var(--sklearn-color-line);\n",
       "  margin: 0 0.4em 0.5em 0.4em;\n",
       "  box-sizing: border-box;\n",
       "  padding-bottom: 0.4em;\n",
       "  background-color: var(--sklearn-color-background);\n",
       "}\n",
       "\n",
       "#sk-container-id-3 div.sk-container {\n",
       "  /* jupyter's `normalize.less` sets `[hidden] { display: none; }`\n",
       "     but bootstrap.min.css set `[hidden] { display: none !important; }`\n",
       "     so we also need the `!important` here to be able to override the\n",
       "     default hidden behavior on the sphinx rendered scikit-learn.org.\n",
       "     See: https://github.com/scikit-learn/scikit-learn/issues/21755 */\n",
       "  display: inline-block !important;\n",
       "  position: relative;\n",
       "}\n",
       "\n",
       "#sk-container-id-3 div.sk-text-repr-fallback {\n",
       "  display: none;\n",
       "}\n",
       "\n",
       "div.sk-parallel-item,\n",
       "div.sk-serial,\n",
       "div.sk-item {\n",
       "  /* draw centered vertical line to link estimators */\n",
       "  background-image: linear-gradient(var(--sklearn-color-text-on-default-background), var(--sklearn-color-text-on-default-background));\n",
       "  background-size: 2px 100%;\n",
       "  background-repeat: no-repeat;\n",
       "  background-position: center center;\n",
       "}\n",
       "\n",
       "/* Parallel-specific style estimator block */\n",
       "\n",
       "#sk-container-id-3 div.sk-parallel-item::after {\n",
       "  content: \"\";\n",
       "  width: 100%;\n",
       "  border-bottom: 2px solid var(--sklearn-color-text-on-default-background);\n",
       "  flex-grow: 1;\n",
       "}\n",
       "\n",
       "#sk-container-id-3 div.sk-parallel {\n",
       "  display: flex;\n",
       "  align-items: stretch;\n",
       "  justify-content: center;\n",
       "  background-color: var(--sklearn-color-background);\n",
       "  position: relative;\n",
       "}\n",
       "\n",
       "#sk-container-id-3 div.sk-parallel-item {\n",
       "  display: flex;\n",
       "  flex-direction: column;\n",
       "}\n",
       "\n",
       "#sk-container-id-3 div.sk-parallel-item:first-child::after {\n",
       "  align-self: flex-end;\n",
       "  width: 50%;\n",
       "}\n",
       "\n",
       "#sk-container-id-3 div.sk-parallel-item:last-child::after {\n",
       "  align-self: flex-start;\n",
       "  width: 50%;\n",
       "}\n",
       "\n",
       "#sk-container-id-3 div.sk-parallel-item:only-child::after {\n",
       "  width: 0;\n",
       "}\n",
       "\n",
       "/* Serial-specific style estimator block */\n",
       "\n",
       "#sk-container-id-3 div.sk-serial {\n",
       "  display: flex;\n",
       "  flex-direction: column;\n",
       "  align-items: center;\n",
       "  background-color: var(--sklearn-color-background);\n",
       "  padding-right: 1em;\n",
       "  padding-left: 1em;\n",
       "}\n",
       "\n",
       "\n",
       "/* Toggleable style: style used for estimator/Pipeline/ColumnTransformer box that is\n",
       "clickable and can be expanded/collapsed.\n",
       "- Pipeline and ColumnTransformer use this feature and define the default style\n",
       "- Estimators will overwrite some part of the style using the `sk-estimator` class\n",
       "*/\n",
       "\n",
       "/* Pipeline and ColumnTransformer style (default) */\n",
       "\n",
       "#sk-container-id-3 div.sk-toggleable {\n",
       "  /* Default theme specific background. It is overwritten whether we have a\n",
       "  specific estimator or a Pipeline/ColumnTransformer */\n",
       "  background-color: var(--sklearn-color-background);\n",
       "}\n",
       "\n",
       "/* Toggleable label */\n",
       "#sk-container-id-3 label.sk-toggleable__label {\n",
       "  cursor: pointer;\n",
       "  display: flex;\n",
       "  width: 100%;\n",
       "  margin-bottom: 0;\n",
       "  padding: 0.5em;\n",
       "  box-sizing: border-box;\n",
       "  text-align: center;\n",
       "  align-items: start;\n",
       "  justify-content: space-between;\n",
       "  gap: 0.5em;\n",
       "}\n",
       "\n",
       "#sk-container-id-3 label.sk-toggleable__label .caption {\n",
       "  font-size: 0.6rem;\n",
       "  font-weight: lighter;\n",
       "  color: var(--sklearn-color-text-muted);\n",
       "}\n",
       "\n",
       "#sk-container-id-3 label.sk-toggleable__label-arrow:before {\n",
       "  /* Arrow on the left of the label */\n",
       "  content: \"▸\";\n",
       "  float: left;\n",
       "  margin-right: 0.25em;\n",
       "  color: var(--sklearn-color-icon);\n",
       "}\n",
       "\n",
       "#sk-container-id-3 label.sk-toggleable__label-arrow:hover:before {\n",
       "  color: var(--sklearn-color-text);\n",
       "}\n",
       "\n",
       "/* Toggleable content - dropdown */\n",
       "\n",
       "#sk-container-id-3 div.sk-toggleable__content {\n",
       "  display: none;\n",
       "  text-align: left;\n",
       "  /* unfitted */\n",
       "  background-color: var(--sklearn-color-unfitted-level-0);\n",
       "}\n",
       "\n",
       "#sk-container-id-3 div.sk-toggleable__content.fitted {\n",
       "  /* fitted */\n",
       "  background-color: var(--sklearn-color-fitted-level-0);\n",
       "}\n",
       "\n",
       "#sk-container-id-3 div.sk-toggleable__content pre {\n",
       "  margin: 0.2em;\n",
       "  border-radius: 0.25em;\n",
       "  color: var(--sklearn-color-text);\n",
       "  /* unfitted */\n",
       "  background-color: var(--sklearn-color-unfitted-level-0);\n",
       "}\n",
       "\n",
       "#sk-container-id-3 div.sk-toggleable__content.fitted pre {\n",
       "  /* unfitted */\n",
       "  background-color: var(--sklearn-color-fitted-level-0);\n",
       "}\n",
       "\n",
       "#sk-container-id-3 input.sk-toggleable__control:checked~div.sk-toggleable__content {\n",
       "  /* Expand drop-down */\n",
       "  display: block;\n",
       "  width: 100%;\n",
       "  overflow: visible;\n",
       "}\n",
       "\n",
       "#sk-container-id-3 input.sk-toggleable__control:checked~label.sk-toggleable__label-arrow:before {\n",
       "  content: \"▾\";\n",
       "}\n",
       "\n",
       "/* Pipeline/ColumnTransformer-specific style */\n",
       "\n",
       "#sk-container-id-3 div.sk-label input.sk-toggleable__control:checked~label.sk-toggleable__label {\n",
       "  color: var(--sklearn-color-text);\n",
       "  background-color: var(--sklearn-color-unfitted-level-2);\n",
       "}\n",
       "\n",
       "#sk-container-id-3 div.sk-label.fitted input.sk-toggleable__control:checked~label.sk-toggleable__label {\n",
       "  background-color: var(--sklearn-color-fitted-level-2);\n",
       "}\n",
       "\n",
       "/* Estimator-specific style */\n",
       "\n",
       "/* Colorize estimator box */\n",
       "#sk-container-id-3 div.sk-estimator input.sk-toggleable__control:checked~label.sk-toggleable__label {\n",
       "  /* unfitted */\n",
       "  background-color: var(--sklearn-color-unfitted-level-2);\n",
       "}\n",
       "\n",
       "#sk-container-id-3 div.sk-estimator.fitted input.sk-toggleable__control:checked~label.sk-toggleable__label {\n",
       "  /* fitted */\n",
       "  background-color: var(--sklearn-color-fitted-level-2);\n",
       "}\n",
       "\n",
       "#sk-container-id-3 div.sk-label label.sk-toggleable__label,\n",
       "#sk-container-id-3 div.sk-label label {\n",
       "  /* The background is the default theme color */\n",
       "  color: var(--sklearn-color-text-on-default-background);\n",
       "}\n",
       "\n",
       "/* On hover, darken the color of the background */\n",
       "#sk-container-id-3 div.sk-label:hover label.sk-toggleable__label {\n",
       "  color: var(--sklearn-color-text);\n",
       "  background-color: var(--sklearn-color-unfitted-level-2);\n",
       "}\n",
       "\n",
       "/* Label box, darken color on hover, fitted */\n",
       "#sk-container-id-3 div.sk-label.fitted:hover label.sk-toggleable__label.fitted {\n",
       "  color: var(--sklearn-color-text);\n",
       "  background-color: var(--sklearn-color-fitted-level-2);\n",
       "}\n",
       "\n",
       "/* Estimator label */\n",
       "\n",
       "#sk-container-id-3 div.sk-label label {\n",
       "  font-family: monospace;\n",
       "  font-weight: bold;\n",
       "  display: inline-block;\n",
       "  line-height: 1.2em;\n",
       "}\n",
       "\n",
       "#sk-container-id-3 div.sk-label-container {\n",
       "  text-align: center;\n",
       "}\n",
       "\n",
       "/* Estimator-specific */\n",
       "#sk-container-id-3 div.sk-estimator {\n",
       "  font-family: monospace;\n",
       "  border: 1px dotted var(--sklearn-color-border-box);\n",
       "  border-radius: 0.25em;\n",
       "  box-sizing: border-box;\n",
       "  margin-bottom: 0.5em;\n",
       "  /* unfitted */\n",
       "  background-color: var(--sklearn-color-unfitted-level-0);\n",
       "}\n",
       "\n",
       "#sk-container-id-3 div.sk-estimator.fitted {\n",
       "  /* fitted */\n",
       "  background-color: var(--sklearn-color-fitted-level-0);\n",
       "}\n",
       "\n",
       "/* on hover */\n",
       "#sk-container-id-3 div.sk-estimator:hover {\n",
       "  /* unfitted */\n",
       "  background-color: var(--sklearn-color-unfitted-level-2);\n",
       "}\n",
       "\n",
       "#sk-container-id-3 div.sk-estimator.fitted:hover {\n",
       "  /* fitted */\n",
       "  background-color: var(--sklearn-color-fitted-level-2);\n",
       "}\n",
       "\n",
       "/* Specification for estimator info (e.g. \"i\" and \"?\") */\n",
       "\n",
       "/* Common style for \"i\" and \"?\" */\n",
       "\n",
       ".sk-estimator-doc-link,\n",
       "a:link.sk-estimator-doc-link,\n",
       "a:visited.sk-estimator-doc-link {\n",
       "  float: right;\n",
       "  font-size: smaller;\n",
       "  line-height: 1em;\n",
       "  font-family: monospace;\n",
       "  background-color: var(--sklearn-color-background);\n",
       "  border-radius: 1em;\n",
       "  height: 1em;\n",
       "  width: 1em;\n",
       "  text-decoration: none !important;\n",
       "  margin-left: 0.5em;\n",
       "  text-align: center;\n",
       "  /* unfitted */\n",
       "  border: var(--sklearn-color-unfitted-level-1) 1pt solid;\n",
       "  color: var(--sklearn-color-unfitted-level-1);\n",
       "}\n",
       "\n",
       ".sk-estimator-doc-link.fitted,\n",
       "a:link.sk-estimator-doc-link.fitted,\n",
       "a:visited.sk-estimator-doc-link.fitted {\n",
       "  /* fitted */\n",
       "  border: var(--sklearn-color-fitted-level-1) 1pt solid;\n",
       "  color: var(--sklearn-color-fitted-level-1);\n",
       "}\n",
       "\n",
       "/* On hover */\n",
       "div.sk-estimator:hover .sk-estimator-doc-link:hover,\n",
       ".sk-estimator-doc-link:hover,\n",
       "div.sk-label-container:hover .sk-estimator-doc-link:hover,\n",
       ".sk-estimator-doc-link:hover {\n",
       "  /* unfitted */\n",
       "  background-color: var(--sklearn-color-unfitted-level-3);\n",
       "  color: var(--sklearn-color-background);\n",
       "  text-decoration: none;\n",
       "}\n",
       "\n",
       "div.sk-estimator.fitted:hover .sk-estimator-doc-link.fitted:hover,\n",
       ".sk-estimator-doc-link.fitted:hover,\n",
       "div.sk-label-container:hover .sk-estimator-doc-link.fitted:hover,\n",
       ".sk-estimator-doc-link.fitted:hover {\n",
       "  /* fitted */\n",
       "  background-color: var(--sklearn-color-fitted-level-3);\n",
       "  color: var(--sklearn-color-background);\n",
       "  text-decoration: none;\n",
       "}\n",
       "\n",
       "/* Span, style for the box shown on hovering the info icon */\n",
       ".sk-estimator-doc-link span {\n",
       "  display: none;\n",
       "  z-index: 9999;\n",
       "  position: relative;\n",
       "  font-weight: normal;\n",
       "  right: .2ex;\n",
       "  padding: .5ex;\n",
       "  margin: .5ex;\n",
       "  width: min-content;\n",
       "  min-width: 20ex;\n",
       "  max-width: 50ex;\n",
       "  color: var(--sklearn-color-text);\n",
       "  box-shadow: 2pt 2pt 4pt #999;\n",
       "  /* unfitted */\n",
       "  background: var(--sklearn-color-unfitted-level-0);\n",
       "  border: .5pt solid var(--sklearn-color-unfitted-level-3);\n",
       "}\n",
       "\n",
       ".sk-estimator-doc-link.fitted span {\n",
       "  /* fitted */\n",
       "  background: var(--sklearn-color-fitted-level-0);\n",
       "  border: var(--sklearn-color-fitted-level-3);\n",
       "}\n",
       "\n",
       ".sk-estimator-doc-link:hover span {\n",
       "  display: block;\n",
       "}\n",
       "\n",
       "/* \"?\"-specific style due to the `<a>` HTML tag */\n",
       "\n",
       "#sk-container-id-3 a.estimator_doc_link {\n",
       "  float: right;\n",
       "  font-size: 1rem;\n",
       "  line-height: 1em;\n",
       "  font-family: monospace;\n",
       "  background-color: var(--sklearn-color-background);\n",
       "  border-radius: 1rem;\n",
       "  height: 1rem;\n",
       "  width: 1rem;\n",
       "  text-decoration: none;\n",
       "  /* unfitted */\n",
       "  color: var(--sklearn-color-unfitted-level-1);\n",
       "  border: var(--sklearn-color-unfitted-level-1) 1pt solid;\n",
       "}\n",
       "\n",
       "#sk-container-id-3 a.estimator_doc_link.fitted {\n",
       "  /* fitted */\n",
       "  border: var(--sklearn-color-fitted-level-1) 1pt solid;\n",
       "  color: var(--sklearn-color-fitted-level-1);\n",
       "}\n",
       "\n",
       "/* On hover */\n",
       "#sk-container-id-3 a.estimator_doc_link:hover {\n",
       "  /* unfitted */\n",
       "  background-color: var(--sklearn-color-unfitted-level-3);\n",
       "  color: var(--sklearn-color-background);\n",
       "  text-decoration: none;\n",
       "}\n",
       "\n",
       "#sk-container-id-3 a.estimator_doc_link.fitted:hover {\n",
       "  /* fitted */\n",
       "  background-color: var(--sklearn-color-fitted-level-3);\n",
       "}\n",
       "\n",
       ".estimator-table summary {\n",
       "    padding: .5rem;\n",
       "    font-family: monospace;\n",
       "    cursor: pointer;\n",
       "}\n",
       "\n",
       ".estimator-table details[open] {\n",
       "    padding-left: 0.1rem;\n",
       "    padding-right: 0.1rem;\n",
       "    padding-bottom: 0.3rem;\n",
       "}\n",
       "\n",
       ".estimator-table .parameters-table {\n",
       "    margin-left: auto !important;\n",
       "    margin-right: auto !important;\n",
       "}\n",
       "\n",
       ".estimator-table .parameters-table tr:nth-child(odd) {\n",
       "    background-color: #fff;\n",
       "}\n",
       "\n",
       ".estimator-table .parameters-table tr:nth-child(even) {\n",
       "    background-color: #f6f6f6;\n",
       "}\n",
       "\n",
       ".estimator-table .parameters-table tr:hover {\n",
       "    background-color: #e0e0e0;\n",
       "}\n",
       "\n",
       ".estimator-table table td {\n",
       "    border: 1px solid rgba(106, 105, 104, 0.232);\n",
       "}\n",
       "\n",
       ".user-set td {\n",
       "    color:rgb(255, 94, 0);\n",
       "    text-align: left;\n",
       "}\n",
       "\n",
       ".user-set td.value pre {\n",
       "    color:rgb(255, 94, 0) !important;\n",
       "    background-color: transparent !important;\n",
       "}\n",
       "\n",
       ".default td {\n",
       "    color: black;\n",
       "    text-align: left;\n",
       "}\n",
       "\n",
       ".user-set td i,\n",
       ".default td i {\n",
       "    color: black;\n",
       "}\n",
       "\n",
       ".copy-paste-icon {\n",
       "    background-image: url(data:image/svg+xml;base64,PHN2ZyB4bWxucz0iaHR0cDovL3d3dy53My5vcmcvMjAwMC9zdmciIHZpZXdCb3g9IjAgMCA0NDggNTEyIj48IS0tIUZvbnQgQXdlc29tZSBGcmVlIDYuNy4yIGJ5IEBmb250YXdlc29tZSAtIGh0dHBzOi8vZm9udGF3ZXNvbWUuY29tIExpY2Vuc2UgLSBodHRwczovL2ZvbnRhd2Vzb21lLmNvbS9saWNlbnNlL2ZyZWUgQ29weXJpZ2h0IDIwMjUgRm9udGljb25zLCBJbmMuLS0+PHBhdGggZD0iTTIwOCAwTDMzMi4xIDBjMTIuNyAwIDI0LjkgNS4xIDMzLjkgMTQuMWw2Ny45IDY3LjljOSA5IDE0LjEgMjEuMiAxNC4xIDMzLjlMNDQ4IDMzNmMwIDI2LjUtMjEuNSA0OC00OCA0OGwtMTkyIDBjLTI2LjUgMC00OC0yMS41LTQ4LTQ4bDAtMjg4YzAtMjYuNSAyMS41LTQ4IDQ4LTQ4ek00OCAxMjhsODAgMCAwIDY0LTY0IDAgMCAyNTYgMTkyIDAgMC0zMiA2NCAwIDAgNDhjMCAyNi41LTIxLjUgNDgtNDggNDhMNDggNTEyYy0yNi41IDAtNDgtMjEuNS00OC00OEwwIDE3NmMwLTI2LjUgMjEuNS00OCA0OC00OHoiLz48L3N2Zz4=);\n",
       "    background-repeat: no-repeat;\n",
       "    background-size: 14px 14px;\n",
       "    background-position: 0;\n",
       "    display: inline-block;\n",
       "    width: 14px;\n",
       "    height: 14px;\n",
       "    cursor: pointer;\n",
       "}\n",
       "</style><body><div id=\"sk-container-id-3\" class=\"sk-top-container\"><div class=\"sk-text-repr-fallback\"><pre>Pipeline(steps=[(&#x27;scaler&#x27;,\n",
       "                 StandardScaler(accountant=BudgetAccountant(spent_budget=[(0.5, 0), (5.0, 0)]),\n",
       "                                bounds=(array([  30.,   13.,  150., 2000.,    0.]),\n",
       "                                        array([6.5e+01, 2.3e+01, 2.5e+02, 7.0e+03, 1.0e+00])),\n",
       "                                epsilon=0.5)),\n",
       "                (&#x27;kmeans&#x27;,\n",
       "                 KMeans(accountant=BudgetAccountant(spent_budget=[(0.5, 0), (5.0, 0)]),\n",
       "                        bounds=(array([-4., -4., -4., -4., -4.]),\n",
       "                                array([4., 4., 4., 4., 4.])),\n",
       "                        epsilon=5.0, n_clusters=3))])</pre><b>In a Jupyter environment, please rerun this cell to show the HTML representation or trust the notebook. <br />On GitHub, the HTML representation is unable to render, please try loading this page with nbviewer.org.</b></div><div class=\"sk-container\" hidden><div class=\"sk-item sk-dashed-wrapped\"><div class=\"sk-label-container\"><div class=\"sk-label fitted sk-toggleable\"><input class=\"sk-toggleable__control sk-hidden--visually\" id=\"sk-estimator-id-5\" type=\"checkbox\" ><label for=\"sk-estimator-id-5\" class=\"sk-toggleable__label fitted sk-toggleable__label-arrow\"><div><div>Pipeline</div></div><div><a class=\"sk-estimator-doc-link fitted\" rel=\"noreferrer\" target=\"_blank\" href=\"https://scikit-learn.org/1.7/modules/generated/sklearn.pipeline.Pipeline.html\">?<span>Documentation for Pipeline</span></a><span class=\"sk-estimator-doc-link fitted\">i<span>Fitted</span></span></div></label><div class=\"sk-toggleable__content fitted\" data-param-prefix=\"\">\n",
       "        <div class=\"estimator-table\">\n",
       "            <details>\n",
       "                <summary>Parameters</summary>\n",
       "                <table class=\"parameters-table\">\n",
       "                  <tbody>\n",
       "                    \n",
       "        <tr class=\"user-set\">\n",
       "            <td><i class=\"copy-paste-icon\"\n",
       "                 onclick=\"copyToClipboard('steps',\n",
       "                          this.parentElement.nextElementSibling)\"\n",
       "            ></i></td>\n",
       "            <td class=\"param\">steps&nbsp;</td>\n",
       "            <td class=\"value\">[(&#x27;scaler&#x27;, ...), (&#x27;kmeans&#x27;, ...)]</td>\n",
       "        </tr>\n",
       "    \n",
       "\n",
       "        <tr class=\"default\">\n",
       "            <td><i class=\"copy-paste-icon\"\n",
       "                 onclick=\"copyToClipboard('transform_input',\n",
       "                          this.parentElement.nextElementSibling)\"\n",
       "            ></i></td>\n",
       "            <td class=\"param\">transform_input&nbsp;</td>\n",
       "            <td class=\"value\">None</td>\n",
       "        </tr>\n",
       "    \n",
       "\n",
       "        <tr class=\"default\">\n",
       "            <td><i class=\"copy-paste-icon\"\n",
       "                 onclick=\"copyToClipboard('memory',\n",
       "                          this.parentElement.nextElementSibling)\"\n",
       "            ></i></td>\n",
       "            <td class=\"param\">memory&nbsp;</td>\n",
       "            <td class=\"value\">None</td>\n",
       "        </tr>\n",
       "    \n",
       "\n",
       "        <tr class=\"default\">\n",
       "            <td><i class=\"copy-paste-icon\"\n",
       "                 onclick=\"copyToClipboard('verbose',\n",
       "                          this.parentElement.nextElementSibling)\"\n",
       "            ></i></td>\n",
       "            <td class=\"param\">verbose&nbsp;</td>\n",
       "            <td class=\"value\">False</td>\n",
       "        </tr>\n",
       "    \n",
       "                  </tbody>\n",
       "                </table>\n",
       "            </details>\n",
       "        </div>\n",
       "    </div></div></div><div class=\"sk-serial\"><div class=\"sk-item\"><div class=\"sk-estimator fitted sk-toggleable\"><input class=\"sk-toggleable__control sk-hidden--visually\" id=\"sk-estimator-id-6\" type=\"checkbox\" ><label for=\"sk-estimator-id-6\" class=\"sk-toggleable__label fitted sk-toggleable__label-arrow\"><div><div>StandardScaler</div></div></label><div class=\"sk-toggleable__content fitted\" data-param-prefix=\"scaler__\">\n",
       "        <div class=\"estimator-table\">\n",
       "            <details>\n",
       "                <summary>Parameters</summary>\n",
       "                <table class=\"parameters-table\">\n",
       "                  <tbody>\n",
       "                    \n",
       "        <tr class=\"user-set\">\n",
       "            <td><i class=\"copy-paste-icon\"\n",
       "                 onclick=\"copyToClipboard('epsilon',\n",
       "                          this.parentElement.nextElementSibling)\"\n",
       "            ></i></td>\n",
       "            <td class=\"param\">epsilon&nbsp;</td>\n",
       "            <td class=\"value\">0.5</td>\n",
       "        </tr>\n",
       "    \n",
       "\n",
       "        <tr class=\"user-set\">\n",
       "            <td><i class=\"copy-paste-icon\"\n",
       "                 onclick=\"copyToClipboard('bounds',\n",
       "                          this.parentElement.nextElementSibling)\"\n",
       "            ></i></td>\n",
       "            <td class=\"param\">bounds&nbsp;</td>\n",
       "            <td class=\"value\">(array([  30.,...2000.,    0.]), ...)</td>\n",
       "        </tr>\n",
       "    \n",
       "\n",
       "        <tr class=\"default\">\n",
       "            <td><i class=\"copy-paste-icon\"\n",
       "                 onclick=\"copyToClipboard('copy',\n",
       "                          this.parentElement.nextElementSibling)\"\n",
       "            ></i></td>\n",
       "            <td class=\"param\">copy&nbsp;</td>\n",
       "            <td class=\"value\">True</td>\n",
       "        </tr>\n",
       "    \n",
       "\n",
       "        <tr class=\"default\">\n",
       "            <td><i class=\"copy-paste-icon\"\n",
       "                 onclick=\"copyToClipboard('with_mean',\n",
       "                          this.parentElement.nextElementSibling)\"\n",
       "            ></i></td>\n",
       "            <td class=\"param\">with_mean&nbsp;</td>\n",
       "            <td class=\"value\">True</td>\n",
       "        </tr>\n",
       "    \n",
       "\n",
       "        <tr class=\"default\">\n",
       "            <td><i class=\"copy-paste-icon\"\n",
       "                 onclick=\"copyToClipboard('with_std',\n",
       "                          this.parentElement.nextElementSibling)\"\n",
       "            ></i></td>\n",
       "            <td class=\"param\">with_std&nbsp;</td>\n",
       "            <td class=\"value\">True</td>\n",
       "        </tr>\n",
       "    \n",
       "\n",
       "        <tr class=\"default\">\n",
       "            <td><i class=\"copy-paste-icon\"\n",
       "                 onclick=\"copyToClipboard('random_state',\n",
       "                          this.parentElement.nextElementSibling)\"\n",
       "            ></i></td>\n",
       "            <td class=\"param\">random_state&nbsp;</td>\n",
       "            <td class=\"value\">None</td>\n",
       "        </tr>\n",
       "    \n",
       "\n",
       "        <tr class=\"user-set\">\n",
       "            <td><i class=\"copy-paste-icon\"\n",
       "                 onclick=\"copyToClipboard('accountant',\n",
       "                          this.parentElement.nextElementSibling)\"\n",
       "            ></i></td>\n",
       "            <td class=\"param\">accountant&nbsp;</td>\n",
       "            <td class=\"value\">BudgetAccount...0), (5.0, 0)])</td>\n",
       "        </tr>\n",
       "    \n",
       "                  </tbody>\n",
       "                </table>\n",
       "            </details>\n",
       "        </div>\n",
       "    </div></div></div><div class=\"sk-item\"><div class=\"sk-estimator fitted sk-toggleable\"><input class=\"sk-toggleable__control sk-hidden--visually\" id=\"sk-estimator-id-7\" type=\"checkbox\" ><label for=\"sk-estimator-id-7\" class=\"sk-toggleable__label fitted sk-toggleable__label-arrow\"><div><div>KMeans</div></div></label><div class=\"sk-toggleable__content fitted\" data-param-prefix=\"kmeans__\">\n",
       "        <div class=\"estimator-table\">\n",
       "            <details>\n",
       "                <summary>Parameters</summary>\n",
       "                <table class=\"parameters-table\">\n",
       "                  <tbody>\n",
       "                    \n",
       "        <tr class=\"user-set\">\n",
       "            <td><i class=\"copy-paste-icon\"\n",
       "                 onclick=\"copyToClipboard('n_clusters',\n",
       "                          this.parentElement.nextElementSibling)\"\n",
       "            ></i></td>\n",
       "            <td class=\"param\">n_clusters&nbsp;</td>\n",
       "            <td class=\"value\">3</td>\n",
       "        </tr>\n",
       "    \n",
       "\n",
       "        <tr class=\"user-set\">\n",
       "            <td><i class=\"copy-paste-icon\"\n",
       "                 onclick=\"copyToClipboard('epsilon',\n",
       "                          this.parentElement.nextElementSibling)\"\n",
       "            ></i></td>\n",
       "            <td class=\"param\">epsilon&nbsp;</td>\n",
       "            <td class=\"value\">5.0</td>\n",
       "        </tr>\n",
       "    \n",
       "\n",
       "        <tr class=\"user-set\">\n",
       "            <td><i class=\"copy-paste-icon\"\n",
       "                 onclick=\"copyToClipboard('bounds',\n",
       "                          this.parentElement.nextElementSibling)\"\n",
       "            ></i></td>\n",
       "            <td class=\"param\">bounds&nbsp;</td>\n",
       "            <td class=\"value\">(array([-4., -...4., -4., -4.]), ...)</td>\n",
       "        </tr>\n",
       "    \n",
       "\n",
       "        <tr class=\"default\">\n",
       "            <td><i class=\"copy-paste-icon\"\n",
       "                 onclick=\"copyToClipboard('random_state',\n",
       "                          this.parentElement.nextElementSibling)\"\n",
       "            ></i></td>\n",
       "            <td class=\"param\">random_state&nbsp;</td>\n",
       "            <td class=\"value\">None</td>\n",
       "        </tr>\n",
       "    \n",
       "\n",
       "        <tr class=\"user-set\">\n",
       "            <td><i class=\"copy-paste-icon\"\n",
       "                 onclick=\"copyToClipboard('accountant',\n",
       "                          this.parentElement.nextElementSibling)\"\n",
       "            ></i></td>\n",
       "            <td class=\"param\">accountant&nbsp;</td>\n",
       "            <td class=\"value\">BudgetAccount...0), (5.0, 0)])</td>\n",
       "        </tr>\n",
       "    \n",
       "                  </tbody>\n",
       "                </table>\n",
       "            </details>\n",
       "        </div>\n",
       "    </div></div></div></div></div></div></div><script>function copyToClipboard(text, element) {\n",
       "    // Get the parameter prefix from the closest toggleable content\n",
       "    const toggleableContent = element.closest('.sk-toggleable__content');\n",
       "    const paramPrefix = toggleableContent ? toggleableContent.dataset.paramPrefix : '';\n",
       "    const fullParamName = paramPrefix ? `${paramPrefix}${text}` : text;\n",
       "\n",
       "    const originalStyle = element.style;\n",
       "    const computedStyle = window.getComputedStyle(element);\n",
       "    const originalWidth = computedStyle.width;\n",
       "    const originalHTML = element.innerHTML.replace('Copied!', '');\n",
       "\n",
       "    navigator.clipboard.writeText(fullParamName)\n",
       "        .then(() => {\n",
       "            element.style.width = originalWidth;\n",
       "            element.style.color = 'green';\n",
       "            element.innerHTML = \"Copied!\";\n",
       "\n",
       "            setTimeout(() => {\n",
       "                element.innerHTML = originalHTML;\n",
       "                element.style = originalStyle;\n",
       "            }, 2000);\n",
       "        })\n",
       "        .catch(err => {\n",
       "            console.error('Failed to copy:', err);\n",
       "            element.style.color = 'red';\n",
       "            element.innerHTML = \"Failed!\";\n",
       "            setTimeout(() => {\n",
       "                element.innerHTML = originalHTML;\n",
       "                element.style = originalStyle;\n",
       "            }, 2000);\n",
       "        });\n",
       "    return false;\n",
       "}\n",
       "\n",
       "document.querySelectorAll('.fa-regular.fa-copy').forEach(function(element) {\n",
       "    const toggleableContent = element.closest('.sk-toggleable__content');\n",
       "    const paramPrefix = toggleableContent ? toggleableContent.dataset.paramPrefix : '';\n",
       "    const paramName = element.parentElement.nextElementSibling.textContent.trim();\n",
       "    const fullParamName = paramPrefix ? `${paramPrefix}${paramName}` : paramName;\n",
       "\n",
       "    element.setAttribute('title', fullParamName);\n",
       "});\n",
       "</script></body>"
      ],
      "text/plain": [
       "Pipeline(steps=[('scaler',\n",
       "                 StandardScaler(accountant=BudgetAccountant(spent_budget=[(0.5, 0), (5.0, 0)]),\n",
       "                                bounds=(array([  30.,   13.,  150., 2000.,    0.]),\n",
       "                                        array([6.5e+01, 2.3e+01, 2.5e+02, 7.0e+03, 1.0e+00])),\n",
       "                                epsilon=0.5)),\n",
       "                ('kmeans',\n",
       "                 KMeans(accountant=BudgetAccountant(spent_budget=[(0.5, 0), (5.0, 0)]),\n",
       "                        bounds=(array([-4., -4., -4., -4., -4.]),\n",
       "                                array([4., 4., 4., 4., 4.])),\n",
       "                        epsilon=5.0, n_clusters=3))])"
      ]
     },
     "execution_count": 102,
     "metadata": {},
     "output_type": "execute_result"
    }
   ],
   "source": [
    "# TODO: Fit the K-Mean pipeline\n",
    "#kmeans_pipeline = ...\n",
    "\n",
    "# Correction\n",
    "kmeans_pipeline = kmeans_pipeline.fit(feature_data)\n",
    "kmeans_pipeline"
   ]
  },
  {
   "cell_type": "markdown",
   "id": "1f9c0247-e485-41c5-a7ec-066beea8cd7a",
   "metadata": {},
   "source": [
    "We can look at the score of the model, which is the opposite of the value of X on the K-means objective."
   ]
  },
  {
   "cell_type": "code",
   "execution_count": 103,
   "id": "090fe0e9-c558-466a-9e58-9698a0321952",
   "metadata": {},
   "outputs": [
    {
     "data": {
      "text/plain": [
       "-11190.195645858588"
      ]
     },
     "execution_count": 103,
     "metadata": {},
     "output_type": "execute_result"
    }
   ],
   "source": [
    "kmeans_pipeline.score(feature_data)"
   ]
  },
  {
   "cell_type": "markdown",
   "id": "23998e64-3047-4643-832b-1f2cbd04685b",
   "metadata": {},
   "source": [
    "And use the model to predict the clusters:"
   ]
  },
  {
   "cell_type": "code",
   "execution_count": 104,
   "id": "39e26cd3-42e2-4179-85b1-8551d3efd571",
   "metadata": {},
   "outputs": [],
   "source": [
    "# TODO: Predict clusters on feature_data with K-Mean pipeline\n",
    "#predictions = ...\n",
    "\n",
    "# Correction\n",
    "predictions = kmeans_pipeline.predict(feature_data)"
   ]
  },
  {
   "cell_type": "code",
   "execution_count": 105,
   "id": "d15a6d65-f50f-434f-a50e-3dd4758c8e09",
   "metadata": {},
   "outputs": [
    {
     "data": {
      "text/html": [
       "<div>\n",
       "<style scoped>\n",
       "    .dataframe tbody tr th:only-of-type {\n",
       "        vertical-align: middle;\n",
       "    }\n",
       "\n",
       "    .dataframe tbody tr th {\n",
       "        vertical-align: top;\n",
       "    }\n",
       "\n",
       "    .dataframe thead th {\n",
       "        text-align: right;\n",
       "    }\n",
       "</style>\n",
       "<table border=\"1\" class=\"dataframe\">\n",
       "  <thead>\n",
       "    <tr style=\"text-align: right;\">\n",
       "      <th></th>\n",
       "      <th>species</th>\n",
       "      <th>island</th>\n",
       "      <th>bill_length_mm</th>\n",
       "      <th>bill_depth_mm</th>\n",
       "      <th>flipper_length_mm</th>\n",
       "      <th>body_mass_g</th>\n",
       "      <th>sex</th>\n",
       "      <th>predictions</th>\n",
       "    </tr>\n",
       "  </thead>\n",
       "  <tbody>\n",
       "    <tr>\n",
       "      <th>0</th>\n",
       "      <td>Adelie</td>\n",
       "      <td>Torgersen</td>\n",
       "      <td>39.1</td>\n",
       "      <td>18.7</td>\n",
       "      <td>181.0</td>\n",
       "      <td>3750.0</td>\n",
       "      <td>0</td>\n",
       "      <td>0</td>\n",
       "    </tr>\n",
       "    <tr>\n",
       "      <th>1</th>\n",
       "      <td>Adelie</td>\n",
       "      <td>Torgersen</td>\n",
       "      <td>39.5</td>\n",
       "      <td>17.4</td>\n",
       "      <td>186.0</td>\n",
       "      <td>3800.0</td>\n",
       "      <td>1</td>\n",
       "      <td>1</td>\n",
       "    </tr>\n",
       "    <tr>\n",
       "      <th>2</th>\n",
       "      <td>Adelie</td>\n",
       "      <td>Torgersen</td>\n",
       "      <td>40.3</td>\n",
       "      <td>18.0</td>\n",
       "      <td>195.0</td>\n",
       "      <td>3250.0</td>\n",
       "      <td>1</td>\n",
       "      <td>1</td>\n",
       "    </tr>\n",
       "    <tr>\n",
       "      <th>4</th>\n",
       "      <td>Adelie</td>\n",
       "      <td>Torgersen</td>\n",
       "      <td>36.7</td>\n",
       "      <td>19.3</td>\n",
       "      <td>193.0</td>\n",
       "      <td>3450.0</td>\n",
       "      <td>1</td>\n",
       "      <td>1</td>\n",
       "    </tr>\n",
       "    <tr>\n",
       "      <th>5</th>\n",
       "      <td>Adelie</td>\n",
       "      <td>Torgersen</td>\n",
       "      <td>39.3</td>\n",
       "      <td>20.6</td>\n",
       "      <td>190.0</td>\n",
       "      <td>3650.0</td>\n",
       "      <td>0</td>\n",
       "      <td>0</td>\n",
       "    </tr>\n",
       "  </tbody>\n",
       "</table>\n",
       "</div>"
      ],
      "text/plain": [
       "  species     island  bill_length_mm  bill_depth_mm  flipper_length_mm  \\\n",
       "0  Adelie  Torgersen            39.1           18.7              181.0   \n",
       "1  Adelie  Torgersen            39.5           17.4              186.0   \n",
       "2  Adelie  Torgersen            40.3           18.0              195.0   \n",
       "4  Adelie  Torgersen            36.7           19.3              193.0   \n",
       "5  Adelie  Torgersen            39.3           20.6              190.0   \n",
       "\n",
       "   body_mass_g  sex  predictions  \n",
       "0       3750.0    0            0  \n",
       "1       3800.0    1            1  \n",
       "2       3250.0    1            1  \n",
       "4       3450.0    1            1  \n",
       "5       3650.0    0            0  "
      ]
     },
     "execution_count": 105,
     "metadata": {},
     "output_type": "execute_result"
    }
   ],
   "source": [
    "df[\"predictions\"] = predictions\n",
    "df.head()"
   ]
  },
  {
   "cell_type": "markdown",
   "id": "d77e11c7-bc14-444d-a69d-5752d75cdc9e",
   "metadata": {},
   "source": [
    "We can plot the results to study the clusters"
   ]
  },
  {
   "cell_type": "code",
   "execution_count": 106,
   "id": "aabf7c65-34b8-4d51-9c39-8e66e5487be0",
   "metadata": {},
   "outputs": [],
   "source": [
    "import matplotlib.pyplot as plt\n",
    "import seaborn as sns"
   ]
  },
  {
   "cell_type": "code",
   "execution_count": 107,
   "id": "ccebade9-0f9e-4ccf-9354-bbd475340427",
   "metadata": {},
   "outputs": [],
   "source": [
    "def plot_clusters(df, x, y, cluster_col=\"predictions\", style_col=\"species\"):\n",
    "    \"\"\"\n",
    "    Plot two features colored by cluster predictions and shaped by species.\n",
    "    \n",
    "    Parameters\n",
    "    ----------\n",
    "    df : pd.DataFrame\n",
    "        DataFrame containing the features, cluster predictions, and species.\n",
    "    x : str\n",
    "        Feature name for the x-axis.\n",
    "    y : str\n",
    "        Feature name for the y-axis.\n",
    "    cluster_col : str, default=\"predictions\"\n",
    "        Column name with cluster assignments.\n",
    "    style_col : str, default=\"species\"\n",
    "        Column name for marker style (e.g., species).\n",
    "    \"\"\"\n",
    "    plt.figure(figsize=(8, 6))\n",
    "    sns.scatterplot(\n",
    "        data=df,\n",
    "        x=x,\n",
    "        y=y,\n",
    "        hue=cluster_col,\n",
    "        style=style_col,\n",
    "        palette=\"deep\",\n",
    "        s=80\n",
    "    )\n",
    "    plt.title(f\"DP KMeans Clustering: {x} vs {y}\")\n",
    "    plt.legend(bbox_to_anchor=(1.05, 1), loc=\"upper left\")\n",
    "    plt.show()"
   ]
  },
  {
   "cell_type": "code",
   "execution_count": 108,
   "id": "081e752a-8a67-444f-b599-0ed8338aabae",
   "metadata": {},
   "outputs": [
    {
     "data": {
      "image/png": "[encoded data removed]",
      "text/plain": [
       "<Figure size 800x600 with 1 Axes>"
      ]
     },
     "metadata": {},
     "output_type": "display_data"
    }
   ],
   "source": [
    "plot_clusters(df, x=\"bill_length_mm\", y=\"flipper_length_mm\")"
   ]
  },
  {
   "cell_type": "code",
   "execution_count": 109,
   "id": "31724de2-2cc7-4451-a9c9-8431959150dc",
   "metadata": {},
   "outputs": [
    {
     "data": {
      "image/png": "[encoded data removed]",
      "text/plain": [
       "<Figure size 800x600 with 1 Axes>"
      ]
     },
     "metadata": {},
     "output_type": "display_data"
    }
   ],
   "source": [
    "plot_clusters(df, x=\"body_mass_g\", y=\"bill_depth_mm\")"
   ]
  },
  {
   "cell_type": "markdown",
   "id": "e96ab96a-275b-4440-9fab-79b1930d72c9",
   "metadata": {},
   "source": [
    "Feel free to try various number of cluster options, feature selection and axis to plot!"
   ]
  },
  {
   "cell_type": "markdown",
   "id": "61288218-4a6d-474c-a360-e9e4b39a8477",
   "metadata": {},
   "source": [
    "### KMeans after PCA and StandardScaler"
   ]
  },
  {
   "cell_type": "markdown",
   "id": "2d5b7f34-d006-4b2c-b361-b212aef05326",
   "metadata": {},
   "source": [
    "Let's try do do a dimensionality reduction to two components with a PCA before K-Means to improve the clustering."
   ]
  },
  {
   "cell_type": "code",
   "execution_count": 110,
   "id": "c2657ea4-ff9a-4886-9d93-d97967b5fee1",
   "metadata": {},
   "outputs": [],
   "source": [
    "N_COMPONENTS = 2"
   ]
  },
  {
   "cell_type": "code",
   "execution_count": 111,
   "id": "bb8a169f-d3f6-4ef4-8aed-b1c782cb0203",
   "metadata": {},
   "outputs": [
    {
     "name": "stdout",
     "output_type": "stream",
     "text": [
      "scaled_data_norm: 8.94427190999916\n"
     ]
    }
   ],
   "source": [
    "scaled_data_norm = np.sqrt(sum(STD_BOUND**2 for i in range(len(feature_columns))))\n",
    "print(\"scaled_data_norm:\", scaled_data_norm)"
   ]
  },
  {
   "cell_type": "code",
   "execution_count": 117,
   "id": "96f65b8c-6aa9-4ffd-9c3d-76d0ac09eb70",
   "metadata": {},
   "outputs": [],
   "source": [
    "accountant = BudgetAccountant()\n",
    "\n",
    "pca_pipeline = Pipeline([\n",
    "    ('scaler', models.StandardScaler(epsilon = 1.0, bounds=metadata_bounds, accountant=accountant)),\n",
    "    ('pca', models.PCA(n_components=N_COMPONENTS, epsilon=2.0, bounds=after_std_bounds, data_norm=scaled_data_norm, accountant=accountant)),\n",
    "])"
   ]
  },
  {
   "cell_type": "markdown",
   "id": "062e06b1-93c6-458b-9e54-5b22b9e7bebc",
   "metadata": {},
   "source": [
    "We use [fit transform](https://diffprivlib.readthedocs.io/en/latest/modules/models.html#diffprivlib.models.PCA.fit_transform) to fit the model with feature_data and apply directly the dimensionality reduction on it."
   ]
  },
  {
   "cell_type": "code",
   "execution_count": 118,
   "id": "5cb7779c-cb12-462b-85e1-7f0fe53f09ff",
   "metadata": {},
   "outputs": [
    {
     "data": {
      "text/plain": [
       "(333, 2)"
      ]
     },
     "execution_count": 118,
     "metadata": {},
     "output_type": "execute_result"
    }
   ],
   "source": [
    "pca_feature_data = pca_pipeline.fit_transform(feature_data)\n",
    "pca_feature_data.shape"
   ]
  },
  {
   "cell_type": "markdown",
   "id": "1fa29ac0-2ac8-4da2-aa34-73e22c13ce6a",
   "metadata": {},
   "source": [
    "This outputs 2 columns that we add to our dataframe."
   ]
  },
  {
   "cell_type": "code",
   "execution_count": 119,
   "id": "244a2a25-04eb-4815-9f79-b89aaf854f5f",
   "metadata": {},
   "outputs": [
    {
     "data": {
      "text/html": [
       "<div>\n",
       "<style scoped>\n",
       "    .dataframe tbody tr th:only-of-type {\n",
       "        vertical-align: middle;\n",
       "    }\n",
       "\n",
       "    .dataframe tbody tr th {\n",
       "        vertical-align: top;\n",
       "    }\n",
       "\n",
       "    .dataframe thead th {\n",
       "        text-align: right;\n",
       "    }\n",
       "</style>\n",
       "<table border=\"1\" class=\"dataframe\">\n",
       "  <thead>\n",
       "    <tr style=\"text-align: right;\">\n",
       "      <th></th>\n",
       "      <th>species</th>\n",
       "      <th>island</th>\n",
       "      <th>bill_length_mm</th>\n",
       "      <th>bill_depth_mm</th>\n",
       "      <th>flipper_length_mm</th>\n",
       "      <th>body_mass_g</th>\n",
       "      <th>sex</th>\n",
       "      <th>predictions</th>\n",
       "      <th>pca_1</th>\n",
       "      <th>pca_2</th>\n",
       "    </tr>\n",
       "  </thead>\n",
       "  <tbody>\n",
       "    <tr>\n",
       "      <th>0</th>\n",
       "      <td>Adelie</td>\n",
       "      <td>Torgersen</td>\n",
       "      <td>39.1</td>\n",
       "      <td>18.7</td>\n",
       "      <td>181.0</td>\n",
       "      <td>3750.0</td>\n",
       "      <td>0</td>\n",
       "      <td>0</td>\n",
       "      <td>-1.838056</td>\n",
       "      <td>-0.921725</td>\n",
       "    </tr>\n",
       "  </tbody>\n",
       "</table>\n",
       "</div>"
      ],
      "text/plain": [
       "  species     island  bill_length_mm  bill_depth_mm  flipper_length_mm  \\\n",
       "0  Adelie  Torgersen            39.1           18.7              181.0   \n",
       "\n",
       "   body_mass_g  sex  predictions     pca_1     pca_2  \n",
       "0       3750.0    0            0 -1.838056 -0.921725  "
      ]
     },
     "execution_count": 119,
     "metadata": {},
     "output_type": "execute_result"
    }
   ],
   "source": [
    "df[[\"pca_1\", \"pca_2\"]] = pd.DataFrame(pca_feature_data, index=df.index)\n",
    "df.head(1)"
   ]
  },
  {
   "cell_type": "markdown",
   "id": "e9c4b2b5-debc-4d4d-9614-93b045e669b2",
   "metadata": {},
   "source": [
    "We now want to train a K-Means clustering on the principal components.  \n",
    "Once again, we need to determine bounds for the data output of PCA and the input of K-Means.  \n",
    "\n",
    "After scaling, each feature is roughly within [-STD_BOUND, STD_BOUND], and we can computed the maximum L2 norm of any row as $data\\_norm \\leq \\sqrt{(\\text{max bill length})^2 +(\\text{max bill depth})^2 +(\\text{max flipper length})^2 +(\\text{max body mass})^2 +(\\text{max sex})^2}$\n",
    "\n",
    "PCA is a linear transformation (rotation and projection) of the scaled data.  \n",
    "- Importantly, a rotation does not increase the L2 norm of a vector.  \n",
    "- Therefore, the L2 norm of each row in the PCA space is **at most equal** to `scaled_data_norm`.  \n",
    "\n",
    "This means we can safely set conservative bounds for K-Means along each principal component as:\n",
    "$$\n",
    "after\\_pca\\_bounds \\leq [-\\text{scaled\\_data\\_norm}, \\text{scaled\\_data\\_norm}]\n",
    "$$"
   ]
  },
  {
   "cell_type": "code",
   "execution_count": 120,
   "id": "1bb294ce-bcd8-449d-95c9-01560da77bc8",
   "metadata": {},
   "outputs": [],
   "source": [
    "after_pca_bounds = ([-scaled_data_norm]*2, [scaled_data_norm]*2)"
   ]
  },
  {
   "cell_type": "markdown",
   "id": "a55d1507-bdd6-427e-a6c7-e4f2588f59e2",
   "metadata": {},
   "source": [
    "One more time, it is not DP, but we can verify our bounds:"
   ]
  },
  {
   "cell_type": "code",
   "execution_count": 121,
   "id": "f34b83e7-9b17-473c-9cfc-5a1245e6ee93",
   "metadata": {},
   "outputs": [],
   "source": [
    "# Not DP\n",
    "# Get min and max per PCA component\n",
    "pca_mins = df[[\"pca_1\", \"pca_2\"]].min()  # Not DP\n",
    "pca_maxs = df[[\"pca_1\", \"pca_2\"]].max()  # Not DP\n",
    "\n",
    "for i, col in enumerate([\"pca_1\", \"pca_2\"]):\n",
    "    assert pca_mins[col] > after_pca_bounds[0][i], f\"{col} has values below lower bound\"\n",
    "    assert pca_maxs[col] < after_pca_bounds[1][i], f\"{col} has values above upper bound\"    "
   ]
  },
  {
   "cell_type": "markdown",
   "id": "986ec0db-4cef-411d-81e6-83bf25d34d3d",
   "metadata": {},
   "source": [
    "We now instantiate the `K-Means` model:"
   ]
  },
  {
   "cell_type": "code",
   "execution_count": 122,
   "id": "2a83bc19-85f0-4ac7-a69f-42e159f58f96",
   "metadata": {},
   "outputs": [],
   "source": [
    "kmeans_model = models.KMeans(n_clusters = N_CLUSTERS, epsilon = 2.0, bounds=after_pca_bounds, accountant=accountant)"
   ]
  },
  {
   "cell_type": "markdown",
   "id": "3c820c4e-71a0-4c0e-af98-9808afc520c2",
   "metadata": {},
   "source": [
    "Fit in on the pca data:"
   ]
  },
  {
   "cell_type": "code",
   "execution_count": 123,
   "id": "356d393e-8528-4ab7-91af-149b2b0962d7",
   "metadata": {},
   "outputs": [
    {
     "data": {
      "text/html": [
       "<style>#sk-container-id-4 {\n",
       "  /* Definition of color scheme common for light and dark mode */\n",
       "  --sklearn-color-text: #000;\n",
       "  --sklearn-color-text-muted: #666;\n",
       "  --sklearn-color-line: gray;\n",
       "  /* Definition of color scheme for unfitted estimators */\n",
       "  --sklearn-color-unfitted-level-0: #fff5e6;\n",
       "  --sklearn-color-unfitted-level-1: #f6e4d2;\n",
       "  --sklearn-color-unfitted-level-2: #ffe0b3;\n",
       "  --sklearn-color-unfitted-level-3: chocolate;\n",
       "  /* Definition of color scheme for fitted estimators */\n",
       "  --sklearn-color-fitted-level-0: #f0f8ff;\n",
       "  --sklearn-color-fitted-level-1: #d4ebff;\n",
       "  --sklearn-color-fitted-level-2: #b3dbfd;\n",
       "  --sklearn-color-fitted-level-3: cornflowerblue;\n",
       "\n",
       "  /* Specific color for light theme */\n",
       "  --sklearn-color-text-on-default-background: var(--sg-text-color, var(--theme-code-foreground, var(--jp-content-font-color1, black)));\n",
       "  --sklearn-color-background: var(--sg-background-color, var(--theme-background, var(--jp-layout-color0, white)));\n",
       "  --sklearn-color-border-box: var(--sg-text-color, var(--theme-code-foreground, var(--jp-content-font-color1, black)));\n",
       "  --sklearn-color-icon: #696969;\n",
       "\n",
       "  @media (prefers-color-scheme: dark) {\n",
       "    /* Redefinition of color scheme for dark theme */\n",
       "    --sklearn-color-text-on-default-background: var(--sg-text-color, var(--theme-code-foreground, var(--jp-content-font-color1, white)));\n",
       "    --sklearn-color-background: var(--sg-background-color, var(--theme-background, var(--jp-layout-color0, #111)));\n",
       "    --sklearn-color-border-box: var(--sg-text-color, var(--theme-code-foreground, var(--jp-content-font-color1, white)));\n",
       "    --sklearn-color-icon: #878787;\n",
       "  }\n",
       "}\n",
       "\n",
       "#sk-container-id-4 {\n",
       "  color: var(--sklearn-color-text);\n",
       "}\n",
       "\n",
       "#sk-container-id-4 pre {\n",
       "  padding: 0;\n",
       "}\n",
       "\n",
       "#sk-container-id-4 input.sk-hidden--visually {\n",
       "  border: 0;\n",
       "  clip: rect(1px 1px 1px 1px);\n",
       "  clip: rect(1px, 1px, 1px, 1px);\n",
       "  height: 1px;\n",
       "  margin: -1px;\n",
       "  overflow: hidden;\n",
       "  padding: 0;\n",
       "  position: absolute;\n",
       "  width: 1px;\n",
       "}\n",
       "\n",
       "#sk-container-id-4 div.sk-dashed-wrapped {\n",
       "  border: 1px dashed var(--sklearn-color-line);\n",
       "  margin: 0 0.4em 0.5em 0.4em;\n",
       "  box-sizing: border-box;\n",
       "  padding-bottom: 0.4em;\n",
       "  background-color: var(--sklearn-color-background);\n",
       "}\n",
       "\n",
       "#sk-container-id-4 div.sk-container {\n",
       "  /* jupyter's `normalize.less` sets `[hidden] { display: none; }`\n",
       "     but bootstrap.min.css set `[hidden] { display: none !important; }`\n",
       "     so we also need the `!important` here to be able to override the\n",
       "     default hidden behavior on the sphinx rendered scikit-learn.org.\n",
       "     See: https://github.com/scikit-learn/scikit-learn/issues/21755 */\n",
       "  display: inline-block !important;\n",
       "  position: relative;\n",
       "}\n",
       "\n",
       "#sk-container-id-4 div.sk-text-repr-fallback {\n",
       "  display: none;\n",
       "}\n",
       "\n",
       "div.sk-parallel-item,\n",
       "div.sk-serial,\n",
       "div.sk-item {\n",
       "  /* draw centered vertical line to link estimators */\n",
       "  background-image: linear-gradient(var(--sklearn-color-text-on-default-background), var(--sklearn-color-text-on-default-background));\n",
       "  background-size: 2px 100%;\n",
       "  background-repeat: no-repeat;\n",
       "  background-position: center center;\n",
       "}\n",
       "\n",
       "/* Parallel-specific style estimator block */\n",
       "\n",
       "#sk-container-id-4 div.sk-parallel-item::after {\n",
       "  content: \"\";\n",
       "  width: 100%;\n",
       "  border-bottom: 2px solid var(--sklearn-color-text-on-default-background);\n",
       "  flex-grow: 1;\n",
       "}\n",
       "\n",
       "#sk-container-id-4 div.sk-parallel {\n",
       "  display: flex;\n",
       "  align-items: stretch;\n",
       "  justify-content: center;\n",
       "  background-color: var(--sklearn-color-background);\n",
       "  position: relative;\n",
       "}\n",
       "\n",
       "#sk-container-id-4 div.sk-parallel-item {\n",
       "  display: flex;\n",
       "  flex-direction: column;\n",
       "}\n",
       "\n",
       "#sk-container-id-4 div.sk-parallel-item:first-child::after {\n",
       "  align-self: flex-end;\n",
       "  width: 50%;\n",
       "}\n",
       "\n",
       "#sk-container-id-4 div.sk-parallel-item:last-child::after {\n",
       "  align-self: flex-start;\n",
       "  width: 50%;\n",
       "}\n",
       "\n",
       "#sk-container-id-4 div.sk-parallel-item:only-child::after {\n",
       "  width: 0;\n",
       "}\n",
       "\n",
       "/* Serial-specific style estimator block */\n",
       "\n",
       "#sk-container-id-4 div.sk-serial {\n",
       "  display: flex;\n",
       "  flex-direction: column;\n",
       "  align-items: center;\n",
       "  background-color: var(--sklearn-color-background);\n",
       "  padding-right: 1em;\n",
       "  padding-left: 1em;\n",
       "}\n",
       "\n",
       "\n",
       "/* Toggleable style: style used for estimator/Pipeline/ColumnTransformer box that is\n",
       "clickable and can be expanded/collapsed.\n",
       "- Pipeline and ColumnTransformer use this feature and define the default style\n",
       "- Estimators will overwrite some part of the style using the `sk-estimator` class\n",
       "*/\n",
       "\n",
       "/* Pipeline and ColumnTransformer style (default) */\n",
       "\n",
       "#sk-container-id-4 div.sk-toggleable {\n",
       "  /* Default theme specific background. It is overwritten whether we have a\n",
       "  specific estimator or a Pipeline/ColumnTransformer */\n",
       "  background-color: var(--sklearn-color-background);\n",
       "}\n",
       "\n",
       "/* Toggleable label */\n",
       "#sk-container-id-4 label.sk-toggleable__label {\n",
       "  cursor: pointer;\n",
       "  display: flex;\n",
       "  width: 100%;\n",
       "  margin-bottom: 0;\n",
       "  padding: 0.5em;\n",
       "  box-sizing: border-box;\n",
       "  text-align: center;\n",
       "  align-items: start;\n",
       "  justify-content: space-between;\n",
       "  gap: 0.5em;\n",
       "}\n",
       "\n",
       "#sk-container-id-4 label.sk-toggleable__label .caption {\n",
       "  font-size: 0.6rem;\n",
       "  font-weight: lighter;\n",
       "  color: var(--sklearn-color-text-muted);\n",
       "}\n",
       "\n",
       "#sk-container-id-4 label.sk-toggleable__label-arrow:before {\n",
       "  /* Arrow on the left of the label */\n",
       "  content: \"▸\";\n",
       "  float: left;\n",
       "  margin-right: 0.25em;\n",
       "  color: var(--sklearn-color-icon);\n",
       "}\n",
       "\n",
       "#sk-container-id-4 label.sk-toggleable__label-arrow:hover:before {\n",
       "  color: var(--sklearn-color-text);\n",
       "}\n",
       "\n",
       "/* Toggleable content - dropdown */\n",
       "\n",
       "#sk-container-id-4 div.sk-toggleable__content {\n",
       "  display: none;\n",
       "  text-align: left;\n",
       "  /* unfitted */\n",
       "  background-color: var(--sklearn-color-unfitted-level-0);\n",
       "}\n",
       "\n",
       "#sk-container-id-4 div.sk-toggleable__content.fitted {\n",
       "  /* fitted */\n",
       "  background-color: var(--sklearn-color-fitted-level-0);\n",
       "}\n",
       "\n",
       "#sk-container-id-4 div.sk-toggleable__content pre {\n",
       "  margin: 0.2em;\n",
       "  border-radius: 0.25em;\n",
       "  color: var(--sklearn-color-text);\n",
       "  /* unfitted */\n",
       "  background-color: var(--sklearn-color-unfitted-level-0);\n",
       "}\n",
       "\n",
       "#sk-container-id-4 div.sk-toggleable__content.fitted pre {\n",
       "  /* unfitted */\n",
       "  background-color: var(--sklearn-color-fitted-level-0);\n",
       "}\n",
       "\n",
       "#sk-container-id-4 input.sk-toggleable__control:checked~div.sk-toggleable__content {\n",
       "  /* Expand drop-down */\n",
       "  display: block;\n",
       "  width: 100%;\n",
       "  overflow: visible;\n",
       "}\n",
       "\n",
       "#sk-container-id-4 input.sk-toggleable__control:checked~label.sk-toggleable__label-arrow:before {\n",
       "  content: \"▾\";\n",
       "}\n",
       "\n",
       "/* Pipeline/ColumnTransformer-specific style */\n",
       "\n",
       "#sk-container-id-4 div.sk-label input.sk-toggleable__control:checked~label.sk-toggleable__label {\n",
       "  color: var(--sklearn-color-text);\n",
       "  background-color: var(--sklearn-color-unfitted-level-2);\n",
       "}\n",
       "\n",
       "#sk-container-id-4 div.sk-label.fitted input.sk-toggleable__control:checked~label.sk-toggleable__label {\n",
       "  background-color: var(--sklearn-color-fitted-level-2);\n",
       "}\n",
       "\n",
       "/* Estimator-specific style */\n",
       "\n",
       "/* Colorize estimator box */\n",
       "#sk-container-id-4 div.sk-estimator input.sk-toggleable__control:checked~label.sk-toggleable__label {\n",
       "  /* unfitted */\n",
       "  background-color: var(--sklearn-color-unfitted-level-2);\n",
       "}\n",
       "\n",
       "#sk-container-id-4 div.sk-estimator.fitted input.sk-toggleable__control:checked~label.sk-toggleable__label {\n",
       "  /* fitted */\n",
       "  background-color: var(--sklearn-color-fitted-level-2);\n",
       "}\n",
       "\n",
       "#sk-container-id-4 div.sk-label label.sk-toggleable__label,\n",
       "#sk-container-id-4 div.sk-label label {\n",
       "  /* The background is the default theme color */\n",
       "  color: var(--sklearn-color-text-on-default-background);\n",
       "}\n",
       "\n",
       "/* On hover, darken the color of the background */\n",
       "#sk-container-id-4 div.sk-label:hover label.sk-toggleable__label {\n",
       "  color: var(--sklearn-color-text);\n",
       "  background-color: var(--sklearn-color-unfitted-level-2);\n",
       "}\n",
       "\n",
       "/* Label box, darken color on hover, fitted */\n",
       "#sk-container-id-4 div.sk-label.fitted:hover label.sk-toggleable__label.fitted {\n",
       "  color: var(--sklearn-color-text);\n",
       "  background-color: var(--sklearn-color-fitted-level-2);\n",
       "}\n",
       "\n",
       "/* Estimator label */\n",
       "\n",
       "#sk-container-id-4 div.sk-label label {\n",
       "  font-family: monospace;\n",
       "  font-weight: bold;\n",
       "  display: inline-block;\n",
       "  line-height: 1.2em;\n",
       "}\n",
       "\n",
       "#sk-container-id-4 div.sk-label-container {\n",
       "  text-align: center;\n",
       "}\n",
       "\n",
       "/* Estimator-specific */\n",
       "#sk-container-id-4 div.sk-estimator {\n",
       "  font-family: monospace;\n",
       "  border: 1px dotted var(--sklearn-color-border-box);\n",
       "  border-radius: 0.25em;\n",
       "  box-sizing: border-box;\n",
       "  margin-bottom: 0.5em;\n",
       "  /* unfitted */\n",
       "  background-color: var(--sklearn-color-unfitted-level-0);\n",
       "}\n",
       "\n",
       "#sk-container-id-4 div.sk-estimator.fitted {\n",
       "  /* fitted */\n",
       "  background-color: var(--sklearn-color-fitted-level-0);\n",
       "}\n",
       "\n",
       "/* on hover */\n",
       "#sk-container-id-4 div.sk-estimator:hover {\n",
       "  /* unfitted */\n",
       "  background-color: var(--sklearn-color-unfitted-level-2);\n",
       "}\n",
       "\n",
       "#sk-container-id-4 div.sk-estimator.fitted:hover {\n",
       "  /* fitted */\n",
       "  background-color: var(--sklearn-color-fitted-level-2);\n",
       "}\n",
       "\n",
       "/* Specification for estimator info (e.g. \"i\" and \"?\") */\n",
       "\n",
       "/* Common style for \"i\" and \"?\" */\n",
       "\n",
       ".sk-estimator-doc-link,\n",
       "a:link.sk-estimator-doc-link,\n",
       "a:visited.sk-estimator-doc-link {\n",
       "  float: right;\n",
       "  font-size: smaller;\n",
       "  line-height: 1em;\n",
       "  font-family: monospace;\n",
       "  background-color: var(--sklearn-color-background);\n",
       "  border-radius: 1em;\n",
       "  height: 1em;\n",
       "  width: 1em;\n",
       "  text-decoration: none !important;\n",
       "  margin-left: 0.5em;\n",
       "  text-align: center;\n",
       "  /* unfitted */\n",
       "  border: var(--sklearn-color-unfitted-level-1) 1pt solid;\n",
       "  color: var(--sklearn-color-unfitted-level-1);\n",
       "}\n",
       "\n",
       ".sk-estimator-doc-link.fitted,\n",
       "a:link.sk-estimator-doc-link.fitted,\n",
       "a:visited.sk-estimator-doc-link.fitted {\n",
       "  /* fitted */\n",
       "  border: var(--sklearn-color-fitted-level-1) 1pt solid;\n",
       "  color: var(--sklearn-color-fitted-level-1);\n",
       "}\n",
       "\n",
       "/* On hover */\n",
       "div.sk-estimator:hover .sk-estimator-doc-link:hover,\n",
       ".sk-estimator-doc-link:hover,\n",
       "div.sk-label-container:hover .sk-estimator-doc-link:hover,\n",
       ".sk-estimator-doc-link:hover {\n",
       "  /* unfitted */\n",
       "  background-color: var(--sklearn-color-unfitted-level-3);\n",
       "  color: var(--sklearn-color-background);\n",
       "  text-decoration: none;\n",
       "}\n",
       "\n",
       "div.sk-estimator.fitted:hover .sk-estimator-doc-link.fitted:hover,\n",
       ".sk-estimator-doc-link.fitted:hover,\n",
       "div.sk-label-container:hover .sk-estimator-doc-link.fitted:hover,\n",
       ".sk-estimator-doc-link.fitted:hover {\n",
       "  /* fitted */\n",
       "  background-color: var(--sklearn-color-fitted-level-3);\n",
       "  color: var(--sklearn-color-background);\n",
       "  text-decoration: none;\n",
       "}\n",
       "\n",
       "/* Span, style for the box shown on hovering the info icon */\n",
       ".sk-estimator-doc-link span {\n",
       "  display: none;\n",
       "  z-index: 9999;\n",
       "  position: relative;\n",
       "  font-weight: normal;\n",
       "  right: .2ex;\n",
       "  padding: .5ex;\n",
       "  margin: .5ex;\n",
       "  width: min-content;\n",
       "  min-width: 20ex;\n",
       "  max-width: 50ex;\n",
       "  color: var(--sklearn-color-text);\n",
       "  box-shadow: 2pt 2pt 4pt #999;\n",
       "  /* unfitted */\n",
       "  background: var(--sklearn-color-unfitted-level-0);\n",
       "  border: .5pt solid var(--sklearn-color-unfitted-level-3);\n",
       "}\n",
       "\n",
       ".sk-estimator-doc-link.fitted span {\n",
       "  /* fitted */\n",
       "  background: var(--sklearn-color-fitted-level-0);\n",
       "  border: var(--sklearn-color-fitted-level-3);\n",
       "}\n",
       "\n",
       ".sk-estimator-doc-link:hover span {\n",
       "  display: block;\n",
       "}\n",
       "\n",
       "/* \"?\"-specific style due to the `<a>` HTML tag */\n",
       "\n",
       "#sk-container-id-4 a.estimator_doc_link {\n",
       "  float: right;\n",
       "  font-size: 1rem;\n",
       "  line-height: 1em;\n",
       "  font-family: monospace;\n",
       "  background-color: var(--sklearn-color-background);\n",
       "  border-radius: 1rem;\n",
       "  height: 1rem;\n",
       "  width: 1rem;\n",
       "  text-decoration: none;\n",
       "  /* unfitted */\n",
       "  color: var(--sklearn-color-unfitted-level-1);\n",
       "  border: var(--sklearn-color-unfitted-level-1) 1pt solid;\n",
       "}\n",
       "\n",
       "#sk-container-id-4 a.estimator_doc_link.fitted {\n",
       "  /* fitted */\n",
       "  border: var(--sklearn-color-fitted-level-1) 1pt solid;\n",
       "  color: var(--sklearn-color-fitted-level-1);\n",
       "}\n",
       "\n",
       "/* On hover */\n",
       "#sk-container-id-4 a.estimator_doc_link:hover {\n",
       "  /* unfitted */\n",
       "  background-color: var(--sklearn-color-unfitted-level-3);\n",
       "  color: var(--sklearn-color-background);\n",
       "  text-decoration: none;\n",
       "}\n",
       "\n",
       "#sk-container-id-4 a.estimator_doc_link.fitted:hover {\n",
       "  /* fitted */\n",
       "  background-color: var(--sklearn-color-fitted-level-3);\n",
       "}\n",
       "\n",
       ".estimator-table summary {\n",
       "    padding: .5rem;\n",
       "    font-family: monospace;\n",
       "    cursor: pointer;\n",
       "}\n",
       "\n",
       ".estimator-table details[open] {\n",
       "    padding-left: 0.1rem;\n",
       "    padding-right: 0.1rem;\n",
       "    padding-bottom: 0.3rem;\n",
       "}\n",
       "\n",
       ".estimator-table .parameters-table {\n",
       "    margin-left: auto !important;\n",
       "    margin-right: auto !important;\n",
       "}\n",
       "\n",
       ".estimator-table .parameters-table tr:nth-child(odd) {\n",
       "    background-color: #fff;\n",
       "}\n",
       "\n",
       ".estimator-table .parameters-table tr:nth-child(even) {\n",
       "    background-color: #f6f6f6;\n",
       "}\n",
       "\n",
       ".estimator-table .parameters-table tr:hover {\n",
       "    background-color: #e0e0e0;\n",
       "}\n",
       "\n",
       ".estimator-table table td {\n",
       "    border: 1px solid rgba(106, 105, 104, 0.232);\n",
       "}\n",
       "\n",
       ".user-set td {\n",
       "    color:rgb(255, 94, 0);\n",
       "    text-align: left;\n",
       "}\n",
       "\n",
       ".user-set td.value pre {\n",
       "    color:rgb(255, 94, 0) !important;\n",
       "    background-color: transparent !important;\n",
       "}\n",
       "\n",
       ".default td {\n",
       "    color: black;\n",
       "    text-align: left;\n",
       "}\n",
       "\n",
       ".user-set td i,\n",
       ".default td i {\n",
       "    color: black;\n",
       "}\n",
       "\n",
       ".copy-paste-icon {\n",
       "    background-image: url(data:image/svg+xml;base64,PHN2ZyB4bWxucz0iaHR0cDovL3d3dy53My5vcmcvMjAwMC9zdmciIHZpZXdCb3g9IjAgMCA0NDggNTEyIj48IS0tIUZvbnQgQXdlc29tZSBGcmVlIDYuNy4yIGJ5IEBmb250YXdlc29tZSAtIGh0dHBzOi8vZm9udGF3ZXNvbWUuY29tIExpY2Vuc2UgLSBodHRwczovL2ZvbnRhd2Vzb21lLmNvbS9saWNlbnNlL2ZyZWUgQ29weXJpZ2h0IDIwMjUgRm9udGljb25zLCBJbmMuLS0+PHBhdGggZD0iTTIwOCAwTDMzMi4xIDBjMTIuNyAwIDI0LjkgNS4xIDMzLjkgMTQuMWw2Ny45IDY3LjljOSA5IDE0LjEgMjEuMiAxNC4xIDMzLjlMNDQ4IDMzNmMwIDI2LjUtMjEuNSA0OC00OCA0OGwtMTkyIDBjLTI2LjUgMC00OC0yMS41LTQ4LTQ4bDAtMjg4YzAtMjYuNSAyMS41LTQ4IDQ4LTQ4ek00OCAxMjhsODAgMCAwIDY0LTY0IDAgMCAyNTYgMTkyIDAgMC0zMiA2NCAwIDAgNDhjMCAyNi41LTIxLjUgNDgtNDggNDhMNDggNTEyYy0yNi41IDAtNDgtMjEuNS00OC00OEwwIDE3NmMwLTI2LjUgMjEuNS00OCA0OC00OHoiLz48L3N2Zz4=);\n",
       "    background-repeat: no-repeat;\n",
       "    background-size: 14px 14px;\n",
       "    background-position: 0;\n",
       "    display: inline-block;\n",
       "    width: 14px;\n",
       "    height: 14px;\n",
       "    cursor: pointer;\n",
       "}\n",
       "</style><body><div id=\"sk-container-id-4\" class=\"sk-top-container\"><div class=\"sk-text-repr-fallback\"><pre>KMeans(accountant=BudgetAccountant(spent_budget=[(1.0, 0), (2.0, 0), (2.0, 0)]),\n",
       "       bounds=(array([-8.94427191, -8.94427191]),\n",
       "               array([8.94427191, 8.94427191])),\n",
       "       epsilon=2.0, n_clusters=3)</pre><b>In a Jupyter environment, please rerun this cell to show the HTML representation or trust the notebook. <br />On GitHub, the HTML representation is unable to render, please try loading this page with nbviewer.org.</b></div><div class=\"sk-container\" hidden><div class=\"sk-item\"><div class=\"sk-estimator fitted sk-toggleable\"><input class=\"sk-toggleable__control sk-hidden--visually\" id=\"sk-estimator-id-8\" type=\"checkbox\" checked><label for=\"sk-estimator-id-8\" class=\"sk-toggleable__label fitted sk-toggleable__label-arrow\"><div><div>KMeans</div></div><div><span class=\"sk-estimator-doc-link fitted\">i<span>Fitted</span></span></div></label><div class=\"sk-toggleable__content fitted\" data-param-prefix=\"\">\n",
       "        <div class=\"estimator-table\">\n",
       "            <details>\n",
       "                <summary>Parameters</summary>\n",
       "                <table class=\"parameters-table\">\n",
       "                  <tbody>\n",
       "                    \n",
       "        <tr class=\"user-set\">\n",
       "            <td><i class=\"copy-paste-icon\"\n",
       "                 onclick=\"copyToClipboard('n_clusters',\n",
       "                          this.parentElement.nextElementSibling)\"\n",
       "            ></i></td>\n",
       "            <td class=\"param\">n_clusters&nbsp;</td>\n",
       "            <td class=\"value\">3</td>\n",
       "        </tr>\n",
       "    \n",
       "\n",
       "        <tr class=\"user-set\">\n",
       "            <td><i class=\"copy-paste-icon\"\n",
       "                 onclick=\"copyToClipboard('epsilon',\n",
       "                          this.parentElement.nextElementSibling)\"\n",
       "            ></i></td>\n",
       "            <td class=\"param\">epsilon&nbsp;</td>\n",
       "            <td class=\"value\">2.0</td>\n",
       "        </tr>\n",
       "    \n",
       "\n",
       "        <tr class=\"user-set\">\n",
       "            <td><i class=\"copy-paste-icon\"\n",
       "                 onclick=\"copyToClipboard('bounds',\n",
       "                          this.parentElement.nextElementSibling)\"\n",
       "            ></i></td>\n",
       "            <td class=\"param\">bounds&nbsp;</td>\n",
       "            <td class=\"value\">(array([-8.944... -8.94427191]), ...)</td>\n",
       "        </tr>\n",
       "    \n",
       "\n",
       "        <tr class=\"default\">\n",
       "            <td><i class=\"copy-paste-icon\"\n",
       "                 onclick=\"copyToClipboard('random_state',\n",
       "                          this.parentElement.nextElementSibling)\"\n",
       "            ></i></td>\n",
       "            <td class=\"param\">random_state&nbsp;</td>\n",
       "            <td class=\"value\">None</td>\n",
       "        </tr>\n",
       "    \n",
       "\n",
       "        <tr class=\"user-set\">\n",
       "            <td><i class=\"copy-paste-icon\"\n",
       "                 onclick=\"copyToClipboard('accountant',\n",
       "                          this.parentElement.nextElementSibling)\"\n",
       "            ></i></td>\n",
       "            <td class=\"param\">accountant&nbsp;</td>\n",
       "            <td class=\"value\">BudgetAccount...0), (2.0, 0)])</td>\n",
       "        </tr>\n",
       "    \n",
       "                  </tbody>\n",
       "                </table>\n",
       "            </details>\n",
       "        </div>\n",
       "    </div></div></div></div></div><script>function copyToClipboard(text, element) {\n",
       "    // Get the parameter prefix from the closest toggleable content\n",
       "    const toggleableContent = element.closest('.sk-toggleable__content');\n",
       "    const paramPrefix = toggleableContent ? toggleableContent.dataset.paramPrefix : '';\n",
       "    const fullParamName = paramPrefix ? `${paramPrefix}${text}` : text;\n",
       "\n",
       "    const originalStyle = element.style;\n",
       "    const computedStyle = window.getComputedStyle(element);\n",
       "    const originalWidth = computedStyle.width;\n",
       "    const originalHTML = element.innerHTML.replace('Copied!', '');\n",
       "\n",
       "    navigator.clipboard.writeText(fullParamName)\n",
       "        .then(() => {\n",
       "            element.style.width = originalWidth;\n",
       "            element.style.color = 'green';\n",
       "            element.innerHTML = \"Copied!\";\n",
       "\n",
       "            setTimeout(() => {\n",
       "                element.innerHTML = originalHTML;\n",
       "                element.style = originalStyle;\n",
       "            }, 2000);\n",
       "        })\n",
       "        .catch(err => {\n",
       "            console.error('Failed to copy:', err);\n",
       "            element.style.color = 'red';\n",
       "            element.innerHTML = \"Failed!\";\n",
       "            setTimeout(() => {\n",
       "                element.innerHTML = originalHTML;\n",
       "                element.style = originalStyle;\n",
       "            }, 2000);\n",
       "        });\n",
       "    return false;\n",
       "}\n",
       "\n",
       "document.querySelectorAll('.fa-regular.fa-copy').forEach(function(element) {\n",
       "    const toggleableContent = element.closest('.sk-toggleable__content');\n",
       "    const paramPrefix = toggleableContent ? toggleableContent.dataset.paramPrefix : '';\n",
       "    const paramName = element.parentElement.nextElementSibling.textContent.trim();\n",
       "    const fullParamName = paramPrefix ? `${paramPrefix}${paramName}` : paramName;\n",
       "\n",
       "    element.setAttribute('title', fullParamName);\n",
       "});\n",
       "</script></body>"
      ],
      "text/plain": [
       "KMeans(accountant=BudgetAccountant(spent_budget=[(1.0, 0), (2.0, 0), (2.0, 0)]),\n",
       "       bounds=(array([-8.94427191, -8.94427191]),\n",
       "               array([8.94427191, 8.94427191])),\n",
       "       epsilon=2.0, n_clusters=3)"
      ]
     },
     "execution_count": 123,
     "metadata": {},
     "output_type": "execute_result"
    }
   ],
   "source": [
    "# TODO: fit kmean on principal components\n",
    "#kmeans_model = ...\n",
    "\n",
    "# Correction\n",
    "kmeans_model = kmeans_model.fit(df[[\"pca_1\", \"pca_2\"]])\n",
    "kmeans_model"
   ]
  },
  {
   "cell_type": "markdown",
   "id": "9d7675af-6d26-4e2b-b880-6ae06a43c633",
   "metadata": {},
   "source": [
    "And make predictions:"
   ]
  },
  {
   "cell_type": "code",
   "execution_count": 124,
   "id": "d92f6524-6118-421d-ad27-aebaae186d8a",
   "metadata": {},
   "outputs": [],
   "source": [
    "# TODO: Predict clusters on principal compoents with K-Mean pipeline\n",
    "#predictions = ...\n",
    "\n",
    "# Correction\n",
    "after_pca_predictions = kmeans_model.predict(df[[\"pca_1\", \"pca_2\"]])"
   ]
  },
  {
   "cell_type": "code",
   "execution_count": 125,
   "id": "161203d4-8cfe-4ffd-854f-496f5fa497f1",
   "metadata": {},
   "outputs": [
    {
     "data": {
      "text/html": [
       "<div>\n",
       "<style scoped>\n",
       "    .dataframe tbody tr th:only-of-type {\n",
       "        vertical-align: middle;\n",
       "    }\n",
       "\n",
       "    .dataframe tbody tr th {\n",
       "        vertical-align: top;\n",
       "    }\n",
       "\n",
       "    .dataframe thead th {\n",
       "        text-align: right;\n",
       "    }\n",
       "</style>\n",
       "<table border=\"1\" class=\"dataframe\">\n",
       "  <thead>\n",
       "    <tr style=\"text-align: right;\">\n",
       "      <th></th>\n",
       "      <th>species</th>\n",
       "      <th>island</th>\n",
       "      <th>bill_length_mm</th>\n",
       "      <th>bill_depth_mm</th>\n",
       "      <th>flipper_length_mm</th>\n",
       "      <th>body_mass_g</th>\n",
       "      <th>sex</th>\n",
       "      <th>predictions</th>\n",
       "      <th>pca_1</th>\n",
       "      <th>pca_2</th>\n",
       "      <th>after_pca_predictions</th>\n",
       "    </tr>\n",
       "  </thead>\n",
       "  <tbody>\n",
       "    <tr>\n",
       "      <th>0</th>\n",
       "      <td>Adelie</td>\n",
       "      <td>Torgersen</td>\n",
       "      <td>39.1</td>\n",
       "      <td>18.7</td>\n",
       "      <td>181.0</td>\n",
       "      <td>3750.0</td>\n",
       "      <td>0</td>\n",
       "      <td>0</td>\n",
       "      <td>-1.838056</td>\n",
       "      <td>-0.921725</td>\n",
       "      <td>0</td>\n",
       "    </tr>\n",
       "    <tr>\n",
       "      <th>1</th>\n",
       "      <td>Adelie</td>\n",
       "      <td>Torgersen</td>\n",
       "      <td>39.5</td>\n",
       "      <td>17.4</td>\n",
       "      <td>186.0</td>\n",
       "      <td>3800.0</td>\n",
       "      <td>1</td>\n",
       "      <td>1</td>\n",
       "      <td>-2.203258</td>\n",
       "      <td>0.715221</td>\n",
       "      <td>0</td>\n",
       "    </tr>\n",
       "    <tr>\n",
       "      <th>2</th>\n",
       "      <td>Adelie</td>\n",
       "      <td>Torgersen</td>\n",
       "      <td>40.3</td>\n",
       "      <td>18.0</td>\n",
       "      <td>195.0</td>\n",
       "      <td>3250.0</td>\n",
       "      <td>1</td>\n",
       "      <td>1</td>\n",
       "      <td>-3.201241</td>\n",
       "      <td>0.271221</td>\n",
       "      <td>0</td>\n",
       "    </tr>\n",
       "    <tr>\n",
       "      <th>4</th>\n",
       "      <td>Adelie</td>\n",
       "      <td>Torgersen</td>\n",
       "      <td>36.7</td>\n",
       "      <td>19.3</td>\n",
       "      <td>193.0</td>\n",
       "      <td>3450.0</td>\n",
       "      <td>1</td>\n",
       "      <td>1</td>\n",
       "      <td>-2.911910</td>\n",
       "      <td>0.007423</td>\n",
       "      <td>0</td>\n",
       "    </tr>\n",
       "    <tr>\n",
       "      <th>5</th>\n",
       "      <td>Adelie</td>\n",
       "      <td>Torgersen</td>\n",
       "      <td>39.3</td>\n",
       "      <td>20.6</td>\n",
       "      <td>190.0</td>\n",
       "      <td>3650.0</td>\n",
       "      <td>0</td>\n",
       "      <td>0</td>\n",
       "      <td>-2.084275</td>\n",
       "      <td>-1.401947</td>\n",
       "      <td>0</td>\n",
       "    </tr>\n",
       "  </tbody>\n",
       "</table>\n",
       "</div>"
      ],
      "text/plain": [
       "  species     island  bill_length_mm  bill_depth_mm  flipper_length_mm  \\\n",
       "0  Adelie  Torgersen            39.1           18.7              181.0   \n",
       "1  Adelie  Torgersen            39.5           17.4              186.0   \n",
       "2  Adelie  Torgersen            40.3           18.0              195.0   \n",
       "4  Adelie  Torgersen            36.7           19.3              193.0   \n",
       "5  Adelie  Torgersen            39.3           20.6              190.0   \n",
       "\n",
       "   body_mass_g  sex  predictions     pca_1     pca_2  after_pca_predictions  \n",
       "0       3750.0    0            0 -1.838056 -0.921725                      0  \n",
       "1       3800.0    1            1 -2.203258  0.715221                      0  \n",
       "2       3250.0    1            1 -3.201241  0.271221                      0  \n",
       "4       3450.0    1            1 -2.911910  0.007423                      0  \n",
       "5       3650.0    0            0 -2.084275 -1.401947                      0  "
      ]
     },
     "execution_count": 125,
     "metadata": {},
     "output_type": "execute_result"
    }
   ],
   "source": [
    "df[\"after_pca_predictions\"] = after_pca_predictions\n",
    "df.head()"
   ]
  },
  {
   "cell_type": "markdown",
   "id": "635c1eae-c61d-43c4-b717-31ba1ab51b0f",
   "metadata": {},
   "source": [
    "We can plot the clusters:"
   ]
  },
  {
   "cell_type": "code",
   "execution_count": 126,
   "id": "17b7ff8e-c6f1-4dbd-9003-1f1bdc076afa",
   "metadata": {},
   "outputs": [
    {
     "data": {
      "image/png": "[encoded data removed]",
      "text/plain": [
       "<Figure size 800x600 with 1 Axes>"
      ]
     },
     "metadata": {},
     "output_type": "display_data"
    }
   ],
   "source": [
    "plot_clusters(df, x=\"pca_1\", y=\"pca_2\", cluster_col=\"after_pca_predictions\")"
   ]
  },
  {
   "cell_type": "markdown",
   "id": "98eaf0da-8a7a-4d46-8762-9c68c1d69e65",
   "metadata": {},
   "source": [
    "Again, feel free to try various number of principal components, cluster options, feature selection and axis to plot!"
   ]
  },
  {
   "cell_type": "markdown",
   "id": "12695d16-ef59-4e7a-90af-54524c392ac4",
   "metadata": {},
   "source": [
    "Let's now check what was the total budget spent by the scaler, pca and k-means models."
   ]
  },
  {
   "cell_type": "code",
   "execution_count": 127,
   "id": "fa81ceb0-eb89-4fd2-a27c-6e90df3ce308",
   "metadata": {},
   "outputs": [
    {
     "data": {
      "text/plain": [
       "(epsilon=5.0, delta=0.0)"
      ]
     },
     "execution_count": 127,
     "metadata": {},
     "output_type": "execute_result"
    }
   ],
   "source": [
    "# TODO: Get epsilon and delta\n",
    "# Correction\n",
    "accountant.total()"
   ]
  },
  {
   "cell_type": "code",
   "execution_count": null,
   "id": "c572cc45-802d-478d-8a77-3fc7b80b193c",
   "metadata": {},
   "outputs": [],
   "source": []
  },
  {
   "cell_type": "code",
   "execution_count": null,
   "id": "c80b952c-e993-4b8d-b990-9f1fd2fae9a2",
   "metadata": {},
   "outputs": [],
   "source": []
  }
 ],
 "metadata": {
  "kernelspec": {
   "display_name": "Python 3 (ipykernel)",
   "language": "python",
   "name": "python3"
  },
  "language_info": {
   "codemirror_mode": {
    "name": "ipython",
    "version": 3
   },
   "file_extension": ".py",
   "mimetype": "text/x-python",
   "name": "python",
   "nbconvert_exporter": "python",
   "pygments_lexer": "ipython3",
   "version": "3.11.11"
  }
 },
 "nbformat": 4,
 "nbformat_minor": 5
}
