{
 "cells": [
  {
   "cell_type": "markdown",
   "id": "736b2ba8-a7f8-4130-a75b-93bb43364fa6",
   "metadata": {},
   "source": [
    "# Introduction to DiffPrivLib"
   ]
  },
  {
   "cell_type": "markdown",
   "id": "c2fd6a0c-3905-42c4-914c-fbe4a6561f8a",
   "metadata": {},
   "source": [
    "[DiffPrivLib](https://diffprivlib.readthedocs.io/en/latest/index.html) is a python library dedicated to differential privacy and machine learning. It is based on `scikit-learn` library. \n",
    "\n",
    "Some other [introduction notebooks](https://github.com/IBM/differential-privacy-library/tree/main/notebooks) are available directly in the official library repository."
   ]
  },
  {
   "cell_type": "markdown",
   "id": "1fb8d7aa-47a7-4915-b52f-e9d540b1192b",
   "metadata": {},
   "source": [
    "## Step 1: Install the Library"
   ]
  },
  {
   "cell_type": "markdown",
   "id": "6834afa6-8506-4542-8abc-15ec5efd988c",
   "metadata": {},
   "source": [
    "Diffprivlib is available on pypi, it can be installed via the pip command. We will use the latest version of the library to date: version 0.6.6."
   ]
  },
  {
   "cell_type": "code",
   "execution_count": 3,
   "id": "378676fe-5cfd-4b68-abc8-c10515754ce2",
   "metadata": {},
   "outputs": [
    {
     "name": "stdout",
     "output_type": "stream",
     "text": [
      "Defaulting to user installation because normal site-packages is not writeable\n",
      "Collecting diffprivlib==0.6.6\n",
      "  Downloading diffprivlib-0.6.6-py3-none-any.whl.metadata (10 kB)\n",
      "Requirement already satisfied: numpy>=2.0.0 in /opt/conda/envs/dap/lib/python3.11/site-packages (from diffprivlib==0.6.6) (2.2.4)\n",
      "Requirement already satisfied: scikit-learn>=1.4.0 in /home/bfs/.local/lib/python3.11/site-packages (from diffprivlib==0.6.6) (1.7.1)\n",
      "Requirement already satisfied: scipy>=1.13.0 in /home/bfs/.local/lib/python3.11/site-packages (from diffprivlib==0.6.6) (1.16.1)\n",
      "Requirement already satisfied: joblib>=0.16.0 in /home/bfs/.local/lib/python3.11/site-packages (from diffprivlib==0.6.6) (1.5.1)\n",
      "Requirement already satisfied: setuptools>=49.0.0 in /opt/conda/envs/dap/lib/python3.11/site-packages (from diffprivlib==0.6.6) (78.1.0)\n",
      "Requirement already satisfied: threadpoolctl>=3.1.0 in /home/bfs/.local/lib/python3.11/site-packages (from scikit-learn>=1.4.0->diffprivlib==0.6.6) (3.6.0)\n",
      "Downloading diffprivlib-0.6.6-py3-none-any.whl (176 kB)\n",
      "Installing collected packages: diffprivlib\n",
      "Successfully installed diffprivlib-0.6.6\n"
     ]
    }
   ],
   "source": [
    "!pip install diffprivlib==0.6.6"
   ]
  },
  {
   "cell_type": "markdown",
   "id": "5856aa74-0269-4c83-8027-86a05a6d8695",
   "metadata": {},
   "source": [
    "## Step 2: Load and Prepare Data"
   ]
  },
  {
   "cell_type": "markdown",
   "id": "6486c600-1f9e-4993-9a3c-ace88534f173",
   "metadata": {},
   "source": [
    "### Load penguin dataset"
   ]
  },
  {
   "cell_type": "markdown",
   "id": "d9320bd1-5998-41dd-913f-32aa36a1b062",
   "metadata": {},
   "source": [
    "In this notebook, we will work with the [penguin dataset](\"https://raw.githubusercontent.com/mwaskom/seaborn-data/master/penguins.csv\") from [seaborn datasets](https://github.com/mwaskom/seaborn-data).\n",
    "We load the dataset via pandas in a dataframe `df`."
   ]
  },
  {
   "cell_type": "code",
   "execution_count": 6,
   "id": "9db7497b-8805-4786-bc19-431841d16d67",
   "metadata": {},
   "outputs": [],
   "source": [
    "import pandas as pd"
   ]
  },
  {
   "cell_type": "code",
   "execution_count": 15,
   "id": "67e32ecd-3298-49d7-9a89-932cfe701556",
   "metadata": {},
   "outputs": [],
   "source": [
    "path_to_data = \"https://raw.githubusercontent.com/mwaskom/seaborn-data/master/penguins.csv\"\n",
    "df = pd.read_csv(path_to_data)"
   ]
  },
  {
   "cell_type": "markdown",
   "id": "ee3fa0dd-b533-484a-95f4-8a18982a01f3",
   "metadata": {},
   "source": [
    "We can look at the first rows of the dataframe to get to know the data:"
   ]
  },
  {
   "cell_type": "code",
   "execution_count": 16,
   "id": "c60a81ad-15d4-4686-b096-788abd7c316a",
   "metadata": {},
   "outputs": [
    {
     "data": {
      "text/html": [
       "<div>\n",
       "<style scoped>\n",
       "    .dataframe tbody tr th:only-of-type {\n",
       "        vertical-align: middle;\n",
       "    }\n",
       "\n",
       "    .dataframe tbody tr th {\n",
       "        vertical-align: top;\n",
       "    }\n",
       "\n",
       "    .dataframe thead th {\n",
       "        text-align: right;\n",
       "    }\n",
       "</style>\n",
       "<table border=\"1\" class=\"dataframe\">\n",
       "  <thead>\n",
       "    <tr style=\"text-align: right;\">\n",
       "      <th></th>\n",
       "      <th>species</th>\n",
       "      <th>island</th>\n",
       "      <th>bill_length_mm</th>\n",
       "      <th>bill_depth_mm</th>\n",
       "      <th>flipper_length_mm</th>\n",
       "      <th>body_mass_g</th>\n",
       "      <th>sex</th>\n",
       "    </tr>\n",
       "  </thead>\n",
       "  <tbody>\n",
       "    <tr>\n",
       "      <th>0</th>\n",
       "      <td>Adelie</td>\n",
       "      <td>Torgersen</td>\n",
       "      <td>39.1</td>\n",
       "      <td>18.7</td>\n",
       "      <td>181.0</td>\n",
       "      <td>3750.0</td>\n",
       "      <td>MALE</td>\n",
       "    </tr>\n",
       "    <tr>\n",
       "      <th>1</th>\n",
       "      <td>Adelie</td>\n",
       "      <td>Torgersen</td>\n",
       "      <td>39.5</td>\n",
       "      <td>17.4</td>\n",
       "      <td>186.0</td>\n",
       "      <td>3800.0</td>\n",
       "      <td>FEMALE</td>\n",
       "    </tr>\n",
       "    <tr>\n",
       "      <th>2</th>\n",
       "      <td>Adelie</td>\n",
       "      <td>Torgersen</td>\n",
       "      <td>40.3</td>\n",
       "      <td>18.0</td>\n",
       "      <td>195.0</td>\n",
       "      <td>3250.0</td>\n",
       "      <td>FEMALE</td>\n",
       "    </tr>\n",
       "    <tr>\n",
       "      <th>3</th>\n",
       "      <td>Adelie</td>\n",
       "      <td>Torgersen</td>\n",
       "      <td>NaN</td>\n",
       "      <td>NaN</td>\n",
       "      <td>NaN</td>\n",
       "      <td>NaN</td>\n",
       "      <td>NaN</td>\n",
       "    </tr>\n",
       "    <tr>\n",
       "      <th>4</th>\n",
       "      <td>Adelie</td>\n",
       "      <td>Torgersen</td>\n",
       "      <td>36.7</td>\n",
       "      <td>19.3</td>\n",
       "      <td>193.0</td>\n",
       "      <td>3450.0</td>\n",
       "      <td>FEMALE</td>\n",
       "    </tr>\n",
       "  </tbody>\n",
       "</table>\n",
       "</div>"
      ],
      "text/plain": [
       "  species     island  bill_length_mm  bill_depth_mm  flipper_length_mm  \\\n",
       "0  Adelie  Torgersen            39.1           18.7              181.0   \n",
       "1  Adelie  Torgersen            39.5           17.4              186.0   \n",
       "2  Adelie  Torgersen            40.3           18.0              195.0   \n",
       "3  Adelie  Torgersen             NaN            NaN                NaN   \n",
       "4  Adelie  Torgersen            36.7           19.3              193.0   \n",
       "\n",
       "   body_mass_g     sex  \n",
       "0       3750.0    MALE  \n",
       "1       3800.0  FEMALE  \n",
       "2       3250.0  FEMALE  \n",
       "3          NaN     NaN  \n",
       "4       3450.0  FEMALE  "
      ]
     },
     "execution_count": 16,
     "metadata": {},
     "output_type": "execute_result"
    }
   ],
   "source": [
    "df.head()"
   ]
  },
  {
   "cell_type": "markdown",
   "id": "3ea87119-a3f5-4dd0-ba49-68363d4b00c4",
   "metadata": {},
   "source": [
    "### Handle null values"
   ]
  },
  {
   "cell_type": "markdown",
   "id": "9fbc3335-2fb2-4b5d-95c2-0bd410cf1340",
   "metadata": {},
   "source": [
    "DiffPrivLib does not allow null values so we will have to remove or convert them. For simplicity, we will just drop the rows with null values from the dataset."
   ]
  },
  {
   "cell_type": "code",
   "execution_count": 17,
   "id": "4a726b2f-6e70-44e1-bddd-bf5375a37b25",
   "metadata": {},
   "outputs": [
    {
     "name": "stdout",
     "output_type": "stream",
     "text": [
      "344 rows before dropping nulls\n",
      "333 rows after dropping nulls\n"
     ]
    }
   ],
   "source": [
    "print(f\"{df.shape[0]} rows before dropping nulls\")\n",
    "df = df.dropna()\n",
    "print(f\"{df.shape[0]} rows after dropping nulls\")"
   ]
  },
  {
   "cell_type": "markdown",
   "id": "4cec72b6-df00-440b-92a7-ccc415efd27c",
   "metadata": {},
   "source": [
    "### Encode columns for Machine Learning\n",
    "\n",
    "In the following analysis, we will use the `sex` column as a feature column. We encode the `MALE` and `FEMALE` strings in numbers that the models will the able to use."
   ]
  },
  {
   "cell_type": "code",
   "execution_count": 33,
   "id": "75671917-d7d7-42ea-a5a0-a6aae4b369e8",
   "metadata": {},
   "outputs": [],
   "source": [
    "df[\"sex\"] = df[\"sex\"].map({\"MALE\": 0, \"FEMALE\": 1})"
   ]
  },
  {
   "cell_type": "code",
   "execution_count": 34,
   "id": "02c47d59-7624-41b1-9f59-4ff31f3c6d73",
   "metadata": {},
   "outputs": [
    {
     "data": {
      "text/html": [
       "<div>\n",
       "<style scoped>\n",
       "    .dataframe tbody tr th:only-of-type {\n",
       "        vertical-align: middle;\n",
       "    }\n",
       "\n",
       "    .dataframe tbody tr th {\n",
       "        vertical-align: top;\n",
       "    }\n",
       "\n",
       "    .dataframe thead th {\n",
       "        text-align: right;\n",
       "    }\n",
       "</style>\n",
       "<table border=\"1\" class=\"dataframe\">\n",
       "  <thead>\n",
       "    <tr style=\"text-align: right;\">\n",
       "      <th></th>\n",
       "      <th>species</th>\n",
       "      <th>island</th>\n",
       "      <th>bill_length_mm</th>\n",
       "      <th>bill_depth_mm</th>\n",
       "      <th>flipper_length_mm</th>\n",
       "      <th>body_mass_g</th>\n",
       "      <th>sex</th>\n",
       "    </tr>\n",
       "  </thead>\n",
       "  <tbody>\n",
       "    <tr>\n",
       "      <th>0</th>\n",
       "      <td>Adelie</td>\n",
       "      <td>Torgersen</td>\n",
       "      <td>39.1</td>\n",
       "      <td>18.7</td>\n",
       "      <td>181.0</td>\n",
       "      <td>3750.0</td>\n",
       "      <td>0</td>\n",
       "    </tr>\n",
       "    <tr>\n",
       "      <th>1</th>\n",
       "      <td>Adelie</td>\n",
       "      <td>Torgersen</td>\n",
       "      <td>39.5</td>\n",
       "      <td>17.4</td>\n",
       "      <td>186.0</td>\n",
       "      <td>3800.0</td>\n",
       "      <td>1</td>\n",
       "    </tr>\n",
       "  </tbody>\n",
       "</table>\n",
       "</div>"
      ],
      "text/plain": [
       "  species     island  bill_length_mm  bill_depth_mm  flipper_length_mm  \\\n",
       "0  Adelie  Torgersen            39.1           18.7              181.0   \n",
       "1  Adelie  Torgersen            39.5           17.4              186.0   \n",
       "\n",
       "   body_mass_g  sex  \n",
       "0       3750.0    0  \n",
       "1       3800.0    1  "
      ]
     },
     "execution_count": 34,
     "metadata": {},
     "output_type": "execute_result"
    }
   ],
   "source": [
    "df.head(2)"
   ]
  },
  {
   "cell_type": "markdown",
   "id": "c74635a3-6393-4691-9d04-e74d03976002",
   "metadata": {},
   "source": [
    "## Step 3: Logistic Regression with DiffPrivLib"
   ]
  },
  {
   "cell_type": "markdown",
   "id": "c436a6d5-8697-471b-a3fb-47327cc11a79",
   "metadata": {},
   "source": [
    "We want to predict penguin's species based on bill length, bill depth, flipper length, body mass and sex. Therefore, we will do a logistic regression."
   ]
  },
  {
   "cell_type": "markdown",
   "id": "0fca9ac5-1c57-4c94-bb04-a16a1ec6ef26",
   "metadata": {},
   "source": [
    "We first split the data between features and target (to predict)."
   ]
  },
  {
   "cell_type": "code",
   "execution_count": 35,
   "id": "86da38f1-23be-4bc7-ae8d-ec3bbed087c9",
   "metadata": {},
   "outputs": [],
   "source": [
    "feature_columns = ['bill_length_mm', 'bill_depth_mm', 'flipper_length_mm', 'body_mass_g', 'sex']\n",
    "target_columns = ['species']"
   ]
  },
  {
   "cell_type": "code",
   "execution_count": 36,
   "id": "d41b0a71-38f0-4335-a343-d43eafc84aba",
   "metadata": {},
   "outputs": [],
   "source": [
    "feature_data = df[feature_columns]\n",
    "label_data = df[target_columns]"
   ]
  },
  {
   "cell_type": "markdown",
   "id": "38ecc27a-aa0c-4a4c-85a7-7f43e70a5614",
   "metadata": {},
   "source": [
    "And then split the data to get a training and a testing set with the [train_test_split function](https://scikit-learn.org/stable/modules/generated/sklearn.model_selection.train_test_split.html#train-test-split) from scikit-learn."
   ]
  },
  {
   "cell_type": "code",
   "execution_count": 37,
   "id": "54d54185-0ef5-4b1e-b598-c4da0804af4d",
   "metadata": {},
   "outputs": [],
   "source": [
    "from sklearn.model_selection import train_test_split"
   ]
  },
  {
   "cell_type": "code",
   "execution_count": 38,
   "id": "a3e1c687-0aa6-44da-aa14-da7b514b5118",
   "metadata": {},
   "outputs": [],
   "source": [
    "TEST_SIZE = 0.2\n",
    "RANDOM_STATE = 1 \n",
    "\n",
    "x_train, x_test, y_train, y_test = train_test_split(\n",
    "    feature_data,\n",
    "    label_data,\n",
    "    test_size=TEST_SIZE,\n",
    "    random_state=RANDOM_STATE,\n",
    ")\n",
    "y_train = y_train.to_numpy().ravel()"
   ]
  },
  {
   "cell_type": "markdown",
   "id": "0f2c9b41-507a-4179-8ef2-a04489e23567",
   "metadata": {},
   "source": [
    "Then we define the logistic regression pipeline [see doc](https://diffprivlib.readthedocs.io/en/latest/modules/models.html#logistic-regression):"
   ]
  },
  {
   "cell_type": "code",
   "execution_count": 39,
   "id": "b6227af2-5e9a-4d3f-a0c3-105128ead2c1",
   "metadata": {},
   "outputs": [],
   "source": [
    "from sklearn.pipeline import Pipeline\n",
    "from diffprivlib import models"
   ]
  },
  {
   "cell_type": "code",
   "execution_count": 44,
   "id": "98aaeb10-418b-4bfb-8b22-0b1fd9619da1",
   "metadata": {},
   "outputs": [],
   "source": [
    "dpl_pipeline = Pipeline([\n",
    "    ('classifier', models.LogisticRegression(epsilon = 1.0))\n",
    "])"
   ]
  },
  {
   "cell_type": "markdown",
   "id": "63956dd1-1e00-418e-bfc3-fb48a159e649",
   "metadata": {},
   "source": [
    "And fit it on the training set:"
   ]
  },
  {
   "cell_type": "code",
   "execution_count": 45,
   "id": "1d5010fd-f9bd-45e0-a617-e6831c01ba23",
   "metadata": {},
   "outputs": [
    {
     "name": "stderr",
     "output_type": "stream",
     "text": [
      "/home/bfs/.local/lib/python3.11/site-packages/diffprivlib/models/logistic_regression.py:231: PrivacyLeakWarning: Data norm has not been specified and will be calculated on the data provided.  This will result in additional privacy leakage. To ensure differential privacy and no additional privacy leakage, specify `data_norm` at initialisation.\n",
      "  warnings.warn(\"Data norm has not been specified and will be calculated on the data provided.  This will \"\n"
     ]
    }
   ],
   "source": [
    "dpl_pipeline = dpl_pipeline.fit(x_train, y_train)"
   ]
  },
  {
   "cell_type": "markdown",
   "id": "93aff436-8478-453f-8300-dcefd547e52b",
   "metadata": {},
   "source": [
    "We see that we get a `PrivacyLeakWarning` warning because we did not specify the `data_norm` parameter. \n",
    "\n",
    "Differential privacy mechanisms need to know how much one individual’s record can change the model. This depends on the sensitivity of the loss function, which in turn depends on the size of feature vectors. `data_norm` is that bound: The maximum L2 norm of any single row (feature vector) in the dataset. \n",
    "\n",
    "If it is not specified, DiffPrivLib will infer if from the training data. This may leak information about the dataset (e.g. what the max value was), hence the PrivacyLeakWarning. To avoid that, we should decide on `data_norm` based on domain knowledge before looking at the data.\n",
    "\n",
    "As common knowledge (without looking at the data), we know that:\n",
    "- bill length $\\in [30.0, 65.0]$,\n",
    "- bill depth $\\in [13.0, 23.0]$,\n",
    "- flipper length $\\in [150.0, 250.0]$,\n",
    "- body mass $\\in [2000.0, 7000.0]$,\n",
    "- sex $\\in [0, 1]$.\n",
    "\n",
    "Formally, for a row $x = (x_1, \\ldots, x_d)$, its L2 norm is $\\|x\\|_2 = \\sqrt{x_1^2 + x_2^2 + \\cdots + x_d^2}$.\n",
    "\n",
    "The ℓ2 norm of a row \\(x\\) can be bounded using the feature sensitivities:\n",
    "\n",
    "$$\n",
    "\\|x\\|_2 = \\sqrt{\n",
    "(\\text{bill length sens})^2 +\n",
    "(\\text{bill depth sens})^2 +\n",
    "(\\text{flipper length sens})^2 +\n",
    "(\\text{body mass sens})^2 +\n",
    "(\\text{sex sens})^2\n",
    "}\n",
    "$$\n",
    "\n",
    "where $sens$, the sensitivity of each feature is defined as $\\text{sens} = \\text{max} - \\text{min}$."
   ]
  },
  {
   "cell_type": "markdown",
   "id": "0adccf7b-2361-4d15-9fa3-916244d4ede2",
   "metadata": {},
   "source": [
    "Writing it in a metadata dictionnary, we can then compute the `data_norm`:"
   ]
  },
  {
   "cell_type": "code",
   "execution_count": null,
   "id": "932b16f3-b473-4d60-b296-ac3073b9e93c",
   "metadata": {},
   "outputs": [],
   "source": [
    "import numpy as np"
   ]
  },
  {
   "cell_type": "code",
   "execution_count": 46,
   "id": "88232fbf-0672-4930-8286-9cfc065c030d",
   "metadata": {},
   "outputs": [],
   "source": [
    "bounds = {\n",
    "    'bill_length_mm': {'lower': 30.0, 'upper': 65.0},\n",
    "    'bill_depth_mm': {'lower': 13.0, 'upper': 23.0},\n",
    "    'flipper_length_mm': {'lower': 150.0, 'upper': 150.0},\n",
    "    'body_mass_g': {'lower': 2000.0, 'upper': 7000.0},\n",
    "    'sex': {'lower': 0.0, 'upper': 1.0}, \n",
    "}"
   ]
  },
  {
   "cell_type": "code",
   "execution_count": 51,
   "id": "d1e1b6ee-933f-43e4-9085-7afd746ad9fa",
   "metadata": {},
   "outputs": [
    {
     "name": "stdout",
     "output_type": "stream",
     "text": [
      "data_norm = 5000.13259824177\n"
     ]
    }
   ],
   "source": [
    "# TODO: compute the data_norm\n",
    "#sensitivities = ...\n",
    "#data_norm = ...\n",
    "\n",
    "# Correction\n",
    "sensitivities = [v['upper'] - v['lower'] for v in bounds.values()]\n",
    "data_norm = np.sqrt(sum(s**2 for s in sensitivities))\n",
    "print(\"data_norm =\", data_norm)"
   ]
  },
  {
   "cell_type": "code",
   "execution_count": null,
   "id": "249eff13-2096-45ec-84fa-ae4da673c7d7",
   "metadata": {},
   "outputs": [],
   "source": []
  },
  {
   "cell_type": "code",
   "execution_count": null,
   "id": "ce43bcc8-e822-432e-a38f-d0252e0c8b88",
   "metadata": {},
   "outputs": [],
   "source": []
  },
  {
   "cell_type": "code",
   "execution_count": null,
   "id": "1a8b8255-174d-490c-9814-1298dc8ad1b4",
   "metadata": {},
   "outputs": [],
   "source": []
  }
 ],
 "metadata": {
  "kernelspec": {
   "display_name": "Python 3 (ipykernel)",
   "language": "python",
   "name": "python3"
  },
  "language_info": {
   "codemirror_mode": {
    "name": "ipython",
    "version": 3
   },
   "file_extension": ".py",
   "mimetype": "text/x-python",
   "name": "python",
   "nbconvert_exporter": "python",
   "pygments_lexer": "ipython3",
   "version": "3.11.11"
  }
 },
 "nbformat": 4,
 "nbformat_minor": 5
}
